{
  "nbformat": 4,
  "nbformat_minor": 0,
  "metadata": {
    "colab": {
      "provenance": []
    },
    "kernelspec": {
      "name": "python3",
      "display_name": "Python 3"
    },
    "language_info": {
      "name": "python"
    }
  },
  "cells": [
    {
      "cell_type": "code",
      "execution_count": 1,
      "metadata": {
        "colab": {
          "base_uri": "https://localhost:8080/"
        },
        "id": "o3Wdsi1dpugQ",
        "outputId": "12bf57d5-1f6a-4f4b-8b44-05dc59ee3021"
      },
      "outputs": [
        {
          "output_type": "stream",
          "name": "stdout",
          "text": [
            "Archive:  /content/drive/MyDrive/File Submission/Book_Recomendations.zip\n",
            "  inflating: Book_Recomendations/Books.csv  \n",
            "  inflating: Book_Recomendations/DeepRec.png  \n",
            "  inflating: Book_Recomendations/Ratings.csv  \n",
            "  inflating: Book_Recomendations/Users.csv  \n",
            "  inflating: Book_Recomendations/classicRec.png  \n",
            "  inflating: Book_Recomendations/recsys_taxonomy2.png  \n"
          ]
        }
      ],
      "source": [
        "!unzip '/content/drive/MyDrive/File Submission/Book_Recomendations.zip' -d Book_Recomendations"
      ]
    },
    {
      "cell_type": "markdown",
      "source": [
        "1. Import Library"
      ],
      "metadata": {
        "id": "F9_SQufj5I76"
      }
    },
    {
      "cell_type": "code",
      "source": [
        "import pandas as pd              # Untuk manipulasi data\n",
        "import numpy as np               # Untuk operasi numerik\n",
        "import matplotlib.pyplot as plt  # Untuk visualisasi (optional)\n",
        "import seaborn as sns            # Visualisasi data (optional)\n",
        "from sklearn.feature_extraction.text import TfidfVectorizer  # NLP - vectorizer\n",
        "from sklearn.metrics.pairwise import cosine_similarity       # Hitung kemiripan antar vektor\n",
        "import re                          # Untuk preprocessing teks (regex)\n",
        "import string                      # Untuk hapus tanda baca\n",
        "from sklearn.metrics.pairwise import linear_kernel\n",
        "from surprise import Dataset, Reader, SVD\n",
        "from surprise.model_selection import train_test_split\n",
        "from surprise import accuracy\n",
        "from sklearn.neighbors import NearestNeighbors\n",
        "from IPython.display import Image, display\n",
        "from collections import defaultdict"
      ],
      "metadata": {
        "id": "IpZRUDHCrFrX"
      },
      "execution_count": 115,
      "outputs": []
    },
    {
      "cell_type": "markdown",
      "source": [
        "2. Load semua dari dataset"
      ],
      "metadata": {
        "id": "B_YZ051i5Ng4"
      }
    },
    {
      "cell_type": "code",
      "source": [
        "df_book = pd.read_csv('/content/Book_Recomendations/Books.csv', low_memory=False)"
      ],
      "metadata": {
        "id": "DEKDRsZrrykV"
      },
      "execution_count": 3,
      "outputs": []
    },
    {
      "cell_type": "code",
      "source": [
        "df_Ratings = pd.read_csv('/content/Book_Recomendations/Ratings.csv')"
      ],
      "metadata": {
        "id": "jZbOUlPDy4NO"
      },
      "execution_count": 4,
      "outputs": []
    },
    {
      "cell_type": "code",
      "source": [
        "df_Users = pd.read_csv('/content/Book_Recomendations/Users.csv')"
      ],
      "metadata": {
        "id": "-HKc4PFDzAAC"
      },
      "execution_count": 5,
      "outputs": []
    },
    {
      "cell_type": "markdown",
      "source": [
        "# **Data Understanding**\n",
        "### BOOKS\n",
        "Menampilkan 5 baris pertama dari dataset"
      ],
      "metadata": {
        "id": "CIQYGCgB5V1I"
      }
    },
    {
      "cell_type": "code",
      "source": [
        "df_book.head()"
      ],
      "metadata": {
        "colab": {
          "base_uri": "https://localhost:8080/",
          "height": 434
        },
        "id": "cOe3f2P8zTnj",
        "outputId": "3eaefce1-e0cb-4957-cc5d-e537b525f9c2"
      },
      "execution_count": null,
      "outputs": [
        {
          "output_type": "execute_result",
          "data": {
            "text/plain": [
              "         ISBN                                         Book-Title  \\\n",
              "0  0195153448                                Classical Mythology   \n",
              "1  0002005018                                       Clara Callan   \n",
              "2  0060973129                               Decision in Normandy   \n",
              "3  0374157065  Flu: The Story of the Great Influenza Pandemic...   \n",
              "4  0393045218                             The Mummies of Urumchi   \n",
              "\n",
              "            Book-Author Year-Of-Publication                   Publisher  \\\n",
              "0    Mark P. O. Morford                2002     Oxford University Press   \n",
              "1  Richard Bruce Wright                2001       HarperFlamingo Canada   \n",
              "2          Carlo D'Este                1991             HarperPerennial   \n",
              "3      Gina Bari Kolata                1999        Farrar Straus Giroux   \n",
              "4       E. J. W. Barber                1999  W. W. Norton &amp; Company   \n",
              "\n",
              "                                         Image-URL-S  \\\n",
              "0  http://images.amazon.com/images/P/0195153448.0...   \n",
              "1  http://images.amazon.com/images/P/0002005018.0...   \n",
              "2  http://images.amazon.com/images/P/0060973129.0...   \n",
              "3  http://images.amazon.com/images/P/0374157065.0...   \n",
              "4  http://images.amazon.com/images/P/0393045218.0...   \n",
              "\n",
              "                                         Image-URL-M  \\\n",
              "0  http://images.amazon.com/images/P/0195153448.0...   \n",
              "1  http://images.amazon.com/images/P/0002005018.0...   \n",
              "2  http://images.amazon.com/images/P/0060973129.0...   \n",
              "3  http://images.amazon.com/images/P/0374157065.0...   \n",
              "4  http://images.amazon.com/images/P/0393045218.0...   \n",
              "\n",
              "                                         Image-URL-L  \n",
              "0  http://images.amazon.com/images/P/0195153448.0...  \n",
              "1  http://images.amazon.com/images/P/0002005018.0...  \n",
              "2  http://images.amazon.com/images/P/0060973129.0...  \n",
              "3  http://images.amazon.com/images/P/0374157065.0...  \n",
              "4  http://images.amazon.com/images/P/0393045218.0...  "
            ],
            "text/html": [
              "\n",
              "  <div id=\"df-4513b9cb-18a8-437c-8c6f-b147a0abf7be\" class=\"colab-df-container\">\n",
              "    <div>\n",
              "<style scoped>\n",
              "    .dataframe tbody tr th:only-of-type {\n",
              "        vertical-align: middle;\n",
              "    }\n",
              "\n",
              "    .dataframe tbody tr th {\n",
              "        vertical-align: top;\n",
              "    }\n",
              "\n",
              "    .dataframe thead th {\n",
              "        text-align: right;\n",
              "    }\n",
              "</style>\n",
              "<table border=\"1\" class=\"dataframe\">\n",
              "  <thead>\n",
              "    <tr style=\"text-align: right;\">\n",
              "      <th></th>\n",
              "      <th>ISBN</th>\n",
              "      <th>Book-Title</th>\n",
              "      <th>Book-Author</th>\n",
              "      <th>Year-Of-Publication</th>\n",
              "      <th>Publisher</th>\n",
              "      <th>Image-URL-S</th>\n",
              "      <th>Image-URL-M</th>\n",
              "      <th>Image-URL-L</th>\n",
              "    </tr>\n",
              "  </thead>\n",
              "  <tbody>\n",
              "    <tr>\n",
              "      <th>0</th>\n",
              "      <td>0195153448</td>\n",
              "      <td>Classical Mythology</td>\n",
              "      <td>Mark P. O. Morford</td>\n",
              "      <td>2002</td>\n",
              "      <td>Oxford University Press</td>\n",
              "      <td>http://images.amazon.com/images/P/0195153448.0...</td>\n",
              "      <td>http://images.amazon.com/images/P/0195153448.0...</td>\n",
              "      <td>http://images.amazon.com/images/P/0195153448.0...</td>\n",
              "    </tr>\n",
              "    <tr>\n",
              "      <th>1</th>\n",
              "      <td>0002005018</td>\n",
              "      <td>Clara Callan</td>\n",
              "      <td>Richard Bruce Wright</td>\n",
              "      <td>2001</td>\n",
              "      <td>HarperFlamingo Canada</td>\n",
              "      <td>http://images.amazon.com/images/P/0002005018.0...</td>\n",
              "      <td>http://images.amazon.com/images/P/0002005018.0...</td>\n",
              "      <td>http://images.amazon.com/images/P/0002005018.0...</td>\n",
              "    </tr>\n",
              "    <tr>\n",
              "      <th>2</th>\n",
              "      <td>0060973129</td>\n",
              "      <td>Decision in Normandy</td>\n",
              "      <td>Carlo D'Este</td>\n",
              "      <td>1991</td>\n",
              "      <td>HarperPerennial</td>\n",
              "      <td>http://images.amazon.com/images/P/0060973129.0...</td>\n",
              "      <td>http://images.amazon.com/images/P/0060973129.0...</td>\n",
              "      <td>http://images.amazon.com/images/P/0060973129.0...</td>\n",
              "    </tr>\n",
              "    <tr>\n",
              "      <th>3</th>\n",
              "      <td>0374157065</td>\n",
              "      <td>Flu: The Story of the Great Influenza Pandemic...</td>\n",
              "      <td>Gina Bari Kolata</td>\n",
              "      <td>1999</td>\n",
              "      <td>Farrar Straus Giroux</td>\n",
              "      <td>http://images.amazon.com/images/P/0374157065.0...</td>\n",
              "      <td>http://images.amazon.com/images/P/0374157065.0...</td>\n",
              "      <td>http://images.amazon.com/images/P/0374157065.0...</td>\n",
              "    </tr>\n",
              "    <tr>\n",
              "      <th>4</th>\n",
              "      <td>0393045218</td>\n",
              "      <td>The Mummies of Urumchi</td>\n",
              "      <td>E. J. W. Barber</td>\n",
              "      <td>1999</td>\n",
              "      <td>W. W. Norton &amp;amp; Company</td>\n",
              "      <td>http://images.amazon.com/images/P/0393045218.0...</td>\n",
              "      <td>http://images.amazon.com/images/P/0393045218.0...</td>\n",
              "      <td>http://images.amazon.com/images/P/0393045218.0...</td>\n",
              "    </tr>\n",
              "  </tbody>\n",
              "</table>\n",
              "</div>\n",
              "    <div class=\"colab-df-buttons\">\n",
              "\n",
              "  <div class=\"colab-df-container\">\n",
              "    <button class=\"colab-df-convert\" onclick=\"convertToInteractive('df-4513b9cb-18a8-437c-8c6f-b147a0abf7be')\"\n",
              "            title=\"Convert this dataframe to an interactive table.\"\n",
              "            style=\"display:none;\">\n",
              "\n",
              "  <svg xmlns=\"http://www.w3.org/2000/svg\" height=\"24px\" viewBox=\"0 -960 960 960\">\n",
              "    <path d=\"M120-120v-720h720v720H120Zm60-500h600v-160H180v160Zm220 220h160v-160H400v160Zm0 220h160v-160H400v160ZM180-400h160v-160H180v160Zm440 0h160v-160H620v160ZM180-180h160v-160H180v160Zm440 0h160v-160H620v160Z\"/>\n",
              "  </svg>\n",
              "    </button>\n",
              "\n",
              "  <style>\n",
              "    .colab-df-container {\n",
              "      display:flex;\n",
              "      gap: 12px;\n",
              "    }\n",
              "\n",
              "    .colab-df-convert {\n",
              "      background-color: #E8F0FE;\n",
              "      border: none;\n",
              "      border-radius: 50%;\n",
              "      cursor: pointer;\n",
              "      display: none;\n",
              "      fill: #1967D2;\n",
              "      height: 32px;\n",
              "      padding: 0 0 0 0;\n",
              "      width: 32px;\n",
              "    }\n",
              "\n",
              "    .colab-df-convert:hover {\n",
              "      background-color: #E2EBFA;\n",
              "      box-shadow: 0px 1px 2px rgba(60, 64, 67, 0.3), 0px 1px 3px 1px rgba(60, 64, 67, 0.15);\n",
              "      fill: #174EA6;\n",
              "    }\n",
              "\n",
              "    .colab-df-buttons div {\n",
              "      margin-bottom: 4px;\n",
              "    }\n",
              "\n",
              "    [theme=dark] .colab-df-convert {\n",
              "      background-color: #3B4455;\n",
              "      fill: #D2E3FC;\n",
              "    }\n",
              "\n",
              "    [theme=dark] .colab-df-convert:hover {\n",
              "      background-color: #434B5C;\n",
              "      box-shadow: 0px 1px 3px 1px rgba(0, 0, 0, 0.15);\n",
              "      filter: drop-shadow(0px 1px 2px rgba(0, 0, 0, 0.3));\n",
              "      fill: #FFFFFF;\n",
              "    }\n",
              "  </style>\n",
              "\n",
              "    <script>\n",
              "      const buttonEl =\n",
              "        document.querySelector('#df-4513b9cb-18a8-437c-8c6f-b147a0abf7be button.colab-df-convert');\n",
              "      buttonEl.style.display =\n",
              "        google.colab.kernel.accessAllowed ? 'block' : 'none';\n",
              "\n",
              "      async function convertToInteractive(key) {\n",
              "        const element = document.querySelector('#df-4513b9cb-18a8-437c-8c6f-b147a0abf7be');\n",
              "        const dataTable =\n",
              "          await google.colab.kernel.invokeFunction('convertToInteractive',\n",
              "                                                    [key], {});\n",
              "        if (!dataTable) return;\n",
              "\n",
              "        const docLinkHtml = 'Like what you see? Visit the ' +\n",
              "          '<a target=\"_blank\" href=https://colab.research.google.com/notebooks/data_table.ipynb>data table notebook</a>'\n",
              "          + ' to learn more about interactive tables.';\n",
              "        element.innerHTML = '';\n",
              "        dataTable['output_type'] = 'display_data';\n",
              "        await google.colab.output.renderOutput(dataTable, element);\n",
              "        const docLink = document.createElement('div');\n",
              "        docLink.innerHTML = docLinkHtml;\n",
              "        element.appendChild(docLink);\n",
              "      }\n",
              "    </script>\n",
              "  </div>\n",
              "\n",
              "\n",
              "    <div id=\"df-6a9afeeb-dfc7-4c9e-bdae-a66810f4e1d5\">\n",
              "      <button class=\"colab-df-quickchart\" onclick=\"quickchart('df-6a9afeeb-dfc7-4c9e-bdae-a66810f4e1d5')\"\n",
              "                title=\"Suggest charts\"\n",
              "                style=\"display:none;\">\n",
              "\n",
              "<svg xmlns=\"http://www.w3.org/2000/svg\" height=\"24px\"viewBox=\"0 0 24 24\"\n",
              "     width=\"24px\">\n",
              "    <g>\n",
              "        <path d=\"M19 3H5c-1.1 0-2 .9-2 2v14c0 1.1.9 2 2 2h14c1.1 0 2-.9 2-2V5c0-1.1-.9-2-2-2zM9 17H7v-7h2v7zm4 0h-2V7h2v10zm4 0h-2v-4h2v4z\"/>\n",
              "    </g>\n",
              "</svg>\n",
              "      </button>\n",
              "\n",
              "<style>\n",
              "  .colab-df-quickchart {\n",
              "      --bg-color: #E8F0FE;\n",
              "      --fill-color: #1967D2;\n",
              "      --hover-bg-color: #E2EBFA;\n",
              "      --hover-fill-color: #174EA6;\n",
              "      --disabled-fill-color: #AAA;\n",
              "      --disabled-bg-color: #DDD;\n",
              "  }\n",
              "\n",
              "  [theme=dark] .colab-df-quickchart {\n",
              "      --bg-color: #3B4455;\n",
              "      --fill-color: #D2E3FC;\n",
              "      --hover-bg-color: #434B5C;\n",
              "      --hover-fill-color: #FFFFFF;\n",
              "      --disabled-bg-color: #3B4455;\n",
              "      --disabled-fill-color: #666;\n",
              "  }\n",
              "\n",
              "  .colab-df-quickchart {\n",
              "    background-color: var(--bg-color);\n",
              "    border: none;\n",
              "    border-radius: 50%;\n",
              "    cursor: pointer;\n",
              "    display: none;\n",
              "    fill: var(--fill-color);\n",
              "    height: 32px;\n",
              "    padding: 0;\n",
              "    width: 32px;\n",
              "  }\n",
              "\n",
              "  .colab-df-quickchart:hover {\n",
              "    background-color: var(--hover-bg-color);\n",
              "    box-shadow: 0 1px 2px rgba(60, 64, 67, 0.3), 0 1px 3px 1px rgba(60, 64, 67, 0.15);\n",
              "    fill: var(--button-hover-fill-color);\n",
              "  }\n",
              "\n",
              "  .colab-df-quickchart-complete:disabled,\n",
              "  .colab-df-quickchart-complete:disabled:hover {\n",
              "    background-color: var(--disabled-bg-color);\n",
              "    fill: var(--disabled-fill-color);\n",
              "    box-shadow: none;\n",
              "  }\n",
              "\n",
              "  .colab-df-spinner {\n",
              "    border: 2px solid var(--fill-color);\n",
              "    border-color: transparent;\n",
              "    border-bottom-color: var(--fill-color);\n",
              "    animation:\n",
              "      spin 1s steps(1) infinite;\n",
              "  }\n",
              "\n",
              "  @keyframes spin {\n",
              "    0% {\n",
              "      border-color: transparent;\n",
              "      border-bottom-color: var(--fill-color);\n",
              "      border-left-color: var(--fill-color);\n",
              "    }\n",
              "    20% {\n",
              "      border-color: transparent;\n",
              "      border-left-color: var(--fill-color);\n",
              "      border-top-color: var(--fill-color);\n",
              "    }\n",
              "    30% {\n",
              "      border-color: transparent;\n",
              "      border-left-color: var(--fill-color);\n",
              "      border-top-color: var(--fill-color);\n",
              "      border-right-color: var(--fill-color);\n",
              "    }\n",
              "    40% {\n",
              "      border-color: transparent;\n",
              "      border-right-color: var(--fill-color);\n",
              "      border-top-color: var(--fill-color);\n",
              "    }\n",
              "    60% {\n",
              "      border-color: transparent;\n",
              "      border-right-color: var(--fill-color);\n",
              "    }\n",
              "    80% {\n",
              "      border-color: transparent;\n",
              "      border-right-color: var(--fill-color);\n",
              "      border-bottom-color: var(--fill-color);\n",
              "    }\n",
              "    90% {\n",
              "      border-color: transparent;\n",
              "      border-bottom-color: var(--fill-color);\n",
              "    }\n",
              "  }\n",
              "</style>\n",
              "\n",
              "      <script>\n",
              "        async function quickchart(key) {\n",
              "          const quickchartButtonEl =\n",
              "            document.querySelector('#' + key + ' button');\n",
              "          quickchartButtonEl.disabled = true;  // To prevent multiple clicks.\n",
              "          quickchartButtonEl.classList.add('colab-df-spinner');\n",
              "          try {\n",
              "            const charts = await google.colab.kernel.invokeFunction(\n",
              "                'suggestCharts', [key], {});\n",
              "          } catch (error) {\n",
              "            console.error('Error during call to suggestCharts:', error);\n",
              "          }\n",
              "          quickchartButtonEl.classList.remove('colab-df-spinner');\n",
              "          quickchartButtonEl.classList.add('colab-df-quickchart-complete');\n",
              "        }\n",
              "        (() => {\n",
              "          let quickchartButtonEl =\n",
              "            document.querySelector('#df-6a9afeeb-dfc7-4c9e-bdae-a66810f4e1d5 button');\n",
              "          quickchartButtonEl.style.display =\n",
              "            google.colab.kernel.accessAllowed ? 'block' : 'none';\n",
              "        })();\n",
              "      </script>\n",
              "    </div>\n",
              "\n",
              "    </div>\n",
              "  </div>\n"
            ],
            "application/vnd.google.colaboratory.intrinsic+json": {
              "type": "dataframe",
              "variable_name": "df_book"
            }
          },
          "metadata": {},
          "execution_count": 7
        }
      ]
    },
    {
      "cell_type": "markdown",
      "source": [
        "Menampilkan Jumlah baris dan kolom pada dataset Books.csv"
      ],
      "metadata": {
        "id": "N8pUtKyw5j_s"
      }
    },
    {
      "cell_type": "code",
      "source": [
        "print(\"Number of rows:\", df_book.shape[0])\n",
        "print(\"Number of columns:\", df_book.shape[1])"
      ],
      "metadata": {
        "colab": {
          "base_uri": "https://localhost:8080/"
        },
        "id": "NguWzd2xthXM",
        "outputId": "7e128398-8f51-4287-d3d9-66b2c593efd8"
      },
      "execution_count": null,
      "outputs": [
        {
          "output_type": "stream",
          "name": "stdout",
          "text": [
            "Number of rows: 271360\n",
            "Number of columns: 8\n"
          ]
        }
      ]
    },
    {
      "cell_type": "markdown",
      "source": [
        "Melihat Fitur yang ada pada dataset Books.csv\n",
        "check tipe dari setiap data, missing value dan data duplikat.\n",
        "\n",
        "ditemukan missing value pada:\n",
        "\n",
        "Book-Author :           2\n",
        "\n",
        "Publisher :             2\n",
        "\n",
        "Image-URL-L   :         3"
      ],
      "metadata": {
        "id": "OhWGo0pf5r9K"
      }
    },
    {
      "cell_type": "code",
      "source": [
        "# Display all available features (columns)\n",
        "print(\"Available Features:\\n\", df_book.columns.tolist())\n",
        "\n",
        "# Check data types of each feature\n",
        "print(\"\\nData Types:\\n\", df_book.dtypes)\n",
        "\n",
        "# Check for missing values\n",
        "print(\"\\nMissing Values:\\n\", df_book.isnull().sum())\n",
        "\n",
        "# Check for duplicate rows\n",
        "print(\"\\nNumber of Duplicate Rows:\", df_book.duplicated().sum())\n"
      ],
      "metadata": {
        "colab": {
          "base_uri": "https://localhost:8080/"
        },
        "id": "HblBNf2Mtdd0",
        "outputId": "f640d29e-e02c-43e4-94f3-fece4990bbdb"
      },
      "execution_count": null,
      "outputs": [
        {
          "output_type": "stream",
          "name": "stdout",
          "text": [
            "Available Features:\n",
            " ['ISBN', 'Book-Title', 'Book-Author', 'Year-Of-Publication', 'Publisher', 'Image-URL-S', 'Image-URL-M', 'Image-URL-L']\n",
            "\n",
            "Data Types:\n",
            " ISBN                   object\n",
            "Book-Title             object\n",
            "Book-Author            object\n",
            "Year-Of-Publication    object\n",
            "Publisher              object\n",
            "Image-URL-S            object\n",
            "Image-URL-M            object\n",
            "Image-URL-L            object\n",
            "dtype: object\n",
            "\n",
            "Missing Values:\n",
            " ISBN                   0\n",
            "Book-Title             0\n",
            "Book-Author            2\n",
            "Year-Of-Publication    0\n",
            "Publisher              2\n",
            "Image-URL-S            0\n",
            "Image-URL-M            0\n",
            "Image-URL-L            3\n",
            "dtype: int64\n",
            "\n",
            "Number of Duplicate Rows: 0\n"
          ]
        }
      ]
    },
    {
      "cell_type": "markdown",
      "source": [
        "Melihat apakah ada outlier pada data Year-Of-Publication\n",
        "\n",
        "Terdapat Outlier dimana buku di publish melebihi waktu sekarang dan juga sebelum tahun 1980, seperti tahun 0 atau sebelum 1500."
      ],
      "metadata": {
        "id": "Z0PwWVS08d6g"
      }
    },
    {
      "cell_type": "code",
      "source": [
        "# Calculate quartiles (Q1, Q3) and IQR\n",
        "Q1 = df_book['Year-Of-Publication'].quantile(0.25)\n",
        "Q3 = df_book['Year-Of-Publication'].quantile(0.75)\n",
        "IQR = Q3 - Q1\n",
        "\n",
        "# Define bounds for outliers\n",
        "lower_bound = Q1 - 1.5 * IQR\n",
        "upper_bound = Q3 + 1.5 * IQR\n",
        "\n",
        "# Count outliers\n",
        "outliers_low = df_book[(df_book['Year-Of-Publication'] < lower_bound)]\n",
        "outliers_high = df_book[(df_book['Year-Of-Publication'] > upper_bound)]\n",
        "total_outliers = len(outliers_low) + len(outliers_high)\n",
        "\n",
        "\n",
        "print(f\"Number of low outliers: {len(outliers_low)}\")\n",
        "print(f\"Number of high outliers: {len(outliers_high)}\")\n",
        "print(f\"Total number of outliers: {total_outliers}\")\n",
        "\n",
        "# Melihat apakah ada outlier pada data Year-Of-Publication\n",
        "plt.figure(figsize=(10, 6))\n",
        "sns.boxplot(x='Year-Of-Publication', data=df_book)\n",
        "plt.title('Box Plot of Year-Of-Publication')\n",
        "plt.show()\n",
        "\n",
        "# Alternative method using describe() to identify potential outliers\n",
        "print(df_book['Year-Of-Publication'].describe())\n"
      ],
      "metadata": {
        "colab": {
          "base_uri": "https://localhost:8080/",
          "height": 785
        },
        "id": "hN6TABt1KKul",
        "outputId": "c1a91cfd-4064-43eb-b92e-78f35a28004c"
      },
      "execution_count": null,
      "outputs": [
        {
          "output_type": "stream",
          "name": "stdout",
          "text": [
            "Number of low outliers: 0\n",
            "Number of high outliers: 5\n",
            "Total number of outliers: 5\n"
          ]
        },
        {
          "output_type": "display_data",
          "data": {
            "text/plain": [
              "<Figure size 1000x600 with 1 Axes>"
            ],
            "image/png": "[encoded data removed]"
          },
          "metadata": {}
        },
        {
          "output_type": "stream",
          "name": "stdout",
          "text": [
            "count    251265.000000\n",
            "mean       1994.965542\n",
            "std           6.183895\n",
            "min        1980.000000\n",
            "25%        1991.000000\n",
            "50%        1996.000000\n",
            "75%        2000.000000\n",
            "max        2024.000000\n",
            "Name: Year-Of-Publication, dtype: float64\n"
          ]
        }
      ]
    },
    {
      "cell_type": "markdown",
      "source": [
        "### **USER**\n",
        "\n",
        "Dilakukan pengecekan juga ada pada Dataset User."
      ],
      "metadata": {
        "id": "cxIDGenB6Vfd"
      }
    },
    {
      "cell_type": "code",
      "source": [
        "df_Users.head()"
      ],
      "metadata": {
        "colab": {
          "base_uri": "https://localhost:8080/",
          "height": 206
        },
        "id": "3vPOQk4JzbTA",
        "outputId": "c24d0a57-a69a-459d-978c-ea92208e740b"
      },
      "execution_count": null,
      "outputs": [
        {
          "output_type": "execute_result",
          "data": {
            "text/plain": [
              "   User-ID                            Location   Age\n",
              "0        1                  nyc, new york, usa   NaN\n",
              "1        2           stockton, california, usa  18.0\n",
              "2        3     moscow, yukon territory, russia   NaN\n",
              "3        4           porto, v.n.gaia, portugal  17.0\n",
              "4        5  farnborough, hants, united kingdom   NaN"
            ],
            "text/html": [
              "\n",
              "  <div id=\"df-e3c9de95-0665-43ba-a461-f7915acb9ffb\" class=\"colab-df-container\">\n",
              "    <div>\n",
              "<style scoped>\n",
              "    .dataframe tbody tr th:only-of-type {\n",
              "        vertical-align: middle;\n",
              "    }\n",
              "\n",
              "    .dataframe tbody tr th {\n",
              "        vertical-align: top;\n",
              "    }\n",
              "\n",
              "    .dataframe thead th {\n",
              "        text-align: right;\n",
              "    }\n",
              "</style>\n",
              "<table border=\"1\" class=\"dataframe\">\n",
              "  <thead>\n",
              "    <tr style=\"text-align: right;\">\n",
              "      <th></th>\n",
              "      <th>User-ID</th>\n",
              "      <th>Location</th>\n",
              "      <th>Age</th>\n",
              "    </tr>\n",
              "  </thead>\n",
              "  <tbody>\n",
              "    <tr>\n",
              "      <th>0</th>\n",
              "      <td>1</td>\n",
              "      <td>nyc, new york, usa</td>\n",
              "      <td>NaN</td>\n",
              "    </tr>\n",
              "    <tr>\n",
              "      <th>1</th>\n",
              "      <td>2</td>\n",
              "      <td>stockton, california, usa</td>\n",
              "      <td>18.0</td>\n",
              "    </tr>\n",
              "    <tr>\n",
              "      <th>2</th>\n",
              "      <td>3</td>\n",
              "      <td>moscow, yukon territory, russia</td>\n",
              "      <td>NaN</td>\n",
              "    </tr>\n",
              "    <tr>\n",
              "      <th>3</th>\n",
              "      <td>4</td>\n",
              "      <td>porto, v.n.gaia, portugal</td>\n",
              "      <td>17.0</td>\n",
              "    </tr>\n",
              "    <tr>\n",
              "      <th>4</th>\n",
              "      <td>5</td>\n",
              "      <td>farnborough, hants, united kingdom</td>\n",
              "      <td>NaN</td>\n",
              "    </tr>\n",
              "  </tbody>\n",
              "</table>\n",
              "</div>\n",
              "    <div class=\"colab-df-buttons\">\n",
              "\n",
              "  <div class=\"colab-df-container\">\n",
              "    <button class=\"colab-df-convert\" onclick=\"convertToInteractive('df-e3c9de95-0665-43ba-a461-f7915acb9ffb')\"\n",
              "            title=\"Convert this dataframe to an interactive table.\"\n",
              "            style=\"display:none;\">\n",
              "\n",
              "  <svg xmlns=\"http://www.w3.org/2000/svg\" height=\"24px\" viewBox=\"0 -960 960 960\">\n",
              "    <path d=\"M120-120v-720h720v720H120Zm60-500h600v-160H180v160Zm220 220h160v-160H400v160Zm0 220h160v-160H400v160ZM180-400h160v-160H180v160Zm440 0h160v-160H620v160ZM180-180h160v-160H180v160Zm440 0h160v-160H620v160Z\"/>\n",
              "  </svg>\n",
              "    </button>\n",
              "\n",
              "  <style>\n",
              "    .colab-df-container {\n",
              "      display:flex;\n",
              "      gap: 12px;\n",
              "    }\n",
              "\n",
              "    .colab-df-convert {\n",
              "      background-color: #E8F0FE;\n",
              "      border: none;\n",
              "      border-radius: 50%;\n",
              "      cursor: pointer;\n",
              "      display: none;\n",
              "      fill: #1967D2;\n",
              "      height: 32px;\n",
              "      padding: 0 0 0 0;\n",
              "      width: 32px;\n",
              "    }\n",
              "\n",
              "    .colab-df-convert:hover {\n",
              "      background-color: #E2EBFA;\n",
              "      box-shadow: 0px 1px 2px rgba(60, 64, 67, 0.3), 0px 1px 3px 1px rgba(60, 64, 67, 0.15);\n",
              "      fill: #174EA6;\n",
              "    }\n",
              "\n",
              "    .colab-df-buttons div {\n",
              "      margin-bottom: 4px;\n",
              "    }\n",
              "\n",
              "    [theme=dark] .colab-df-convert {\n",
              "      background-color: #3B4455;\n",
              "      fill: #D2E3FC;\n",
              "    }\n",
              "\n",
              "    [theme=dark] .colab-df-convert:hover {\n",
              "      background-color: #434B5C;\n",
              "      box-shadow: 0px 1px 3px 1px rgba(0, 0, 0, 0.15);\n",
              "      filter: drop-shadow(0px 1px 2px rgba(0, 0, 0, 0.3));\n",
              "      fill: #FFFFFF;\n",
              "    }\n",
              "  </style>\n",
              "\n",
              "    <script>\n",
              "      const buttonEl =\n",
              "        document.querySelector('#df-e3c9de95-0665-43ba-a461-f7915acb9ffb button.colab-df-convert');\n",
              "      buttonEl.style.display =\n",
              "        google.colab.kernel.accessAllowed ? 'block' : 'none';\n",
              "\n",
              "      async function convertToInteractive(key) {\n",
              "        const element = document.querySelector('#df-e3c9de95-0665-43ba-a461-f7915acb9ffb');\n",
              "        const dataTable =\n",
              "          await google.colab.kernel.invokeFunction('convertToInteractive',\n",
              "                                                    [key], {});\n",
              "        if (!dataTable) return;\n",
              "\n",
              "        const docLinkHtml = 'Like what you see? Visit the ' +\n",
              "          '<a target=\"_blank\" href=https://colab.research.google.com/notebooks/data_table.ipynb>data table notebook</a>'\n",
              "          + ' to learn more about interactive tables.';\n",
              "        element.innerHTML = '';\n",
              "        dataTable['output_type'] = 'display_data';\n",
              "        await google.colab.output.renderOutput(dataTable, element);\n",
              "        const docLink = document.createElement('div');\n",
              "        docLink.innerHTML = docLinkHtml;\n",
              "        element.appendChild(docLink);\n",
              "      }\n",
              "    </script>\n",
              "  </div>\n",
              "\n",
              "\n",
              "    <div id=\"df-75b559df-0978-4eae-8ba2-7294443efa42\">\n",
              "      <button class=\"colab-df-quickchart\" onclick=\"quickchart('df-75b559df-0978-4eae-8ba2-7294443efa42')\"\n",
              "                title=\"Suggest charts\"\n",
              "                style=\"display:none;\">\n",
              "\n",
              "<svg xmlns=\"http://www.w3.org/2000/svg\" height=\"24px\"viewBox=\"0 0 24 24\"\n",
              "     width=\"24px\">\n",
              "    <g>\n",
              "        <path d=\"M19 3H5c-1.1 0-2 .9-2 2v14c0 1.1.9 2 2 2h14c1.1 0 2-.9 2-2V5c0-1.1-.9-2-2-2zM9 17H7v-7h2v7zm4 0h-2V7h2v10zm4 0h-2v-4h2v4z\"/>\n",
              "    </g>\n",
              "</svg>\n",
              "      </button>\n",
              "\n",
              "<style>\n",
              "  .colab-df-quickchart {\n",
              "      --bg-color: #E8F0FE;\n",
              "      --fill-color: #1967D2;\n",
              "      --hover-bg-color: #E2EBFA;\n",
              "      --hover-fill-color: #174EA6;\n",
              "      --disabled-fill-color: #AAA;\n",
              "      --disabled-bg-color: #DDD;\n",
              "  }\n",
              "\n",
              "  [theme=dark] .colab-df-quickchart {\n",
              "      --bg-color: #3B4455;\n",
              "      --fill-color: #D2E3FC;\n",
              "      --hover-bg-color: #434B5C;\n",
              "      --hover-fill-color: #FFFFFF;\n",
              "      --disabled-bg-color: #3B4455;\n",
              "      --disabled-fill-color: #666;\n",
              "  }\n",
              "\n",
              "  .colab-df-quickchart {\n",
              "    background-color: var(--bg-color);\n",
              "    border: none;\n",
              "    border-radius: 50%;\n",
              "    cursor: pointer;\n",
              "    display: none;\n",
              "    fill: var(--fill-color);\n",
              "    height: 32px;\n",
              "    padding: 0;\n",
              "    width: 32px;\n",
              "  }\n",
              "\n",
              "  .colab-df-quickchart:hover {\n",
              "    background-color: var(--hover-bg-color);\n",
              "    box-shadow: 0 1px 2px rgba(60, 64, 67, 0.3), 0 1px 3px 1px rgba(60, 64, 67, 0.15);\n",
              "    fill: var(--button-hover-fill-color);\n",
              "  }\n",
              "\n",
              "  .colab-df-quickchart-complete:disabled,\n",
              "  .colab-df-quickchart-complete:disabled:hover {\n",
              "    background-color: var(--disabled-bg-color);\n",
              "    fill: var(--disabled-fill-color);\n",
              "    box-shadow: none;\n",
              "  }\n",
              "\n",
              "  .colab-df-spinner {\n",
              "    border: 2px solid var(--fill-color);\n",
              "    border-color: transparent;\n",
              "    border-bottom-color: var(--fill-color);\n",
              "    animation:\n",
              "      spin 1s steps(1) infinite;\n",
              "  }\n",
              "\n",
              "  @keyframes spin {\n",
              "    0% {\n",
              "      border-color: transparent;\n",
              "      border-bottom-color: var(--fill-color);\n",
              "      border-left-color: var(--fill-color);\n",
              "    }\n",
              "    20% {\n",
              "      border-color: transparent;\n",
              "      border-left-color: var(--fill-color);\n",
              "      border-top-color: var(--fill-color);\n",
              "    }\n",
              "    30% {\n",
              "      border-color: transparent;\n",
              "      border-left-color: var(--fill-color);\n",
              "      border-top-color: var(--fill-color);\n",
              "      border-right-color: var(--fill-color);\n",
              "    }\n",
              "    40% {\n",
              "      border-color: transparent;\n",
              "      border-right-color: var(--fill-color);\n",
              "      border-top-color: var(--fill-color);\n",
              "    }\n",
              "    60% {\n",
              "      border-color: transparent;\n",
              "      border-right-color: var(--fill-color);\n",
              "    }\n",
              "    80% {\n",
              "      border-color: transparent;\n",
              "      border-right-color: var(--fill-color);\n",
              "      border-bottom-color: var(--fill-color);\n",
              "    }\n",
              "    90% {\n",
              "      border-color: transparent;\n",
              "      border-bottom-color: var(--fill-color);\n",
              "    }\n",
              "  }\n",
              "</style>\n",
              "\n",
              "      <script>\n",
              "        async function quickchart(key) {\n",
              "          const quickchartButtonEl =\n",
              "            document.querySelector('#' + key + ' button');\n",
              "          quickchartButtonEl.disabled = true;  // To prevent multiple clicks.\n",
              "          quickchartButtonEl.classList.add('colab-df-spinner');\n",
              "          try {\n",
              "            const charts = await google.colab.kernel.invokeFunction(\n",
              "                'suggestCharts', [key], {});\n",
              "          } catch (error) {\n",
              "            console.error('Error during call to suggestCharts:', error);\n",
              "          }\n",
              "          quickchartButtonEl.classList.remove('colab-df-spinner');\n",
              "          quickchartButtonEl.classList.add('colab-df-quickchart-complete');\n",
              "        }\n",
              "        (() => {\n",
              "          let quickchartButtonEl =\n",
              "            document.querySelector('#df-75b559df-0978-4eae-8ba2-7294443efa42 button');\n",
              "          quickchartButtonEl.style.display =\n",
              "            google.colab.kernel.accessAllowed ? 'block' : 'none';\n",
              "        })();\n",
              "      </script>\n",
              "    </div>\n",
              "\n",
              "    </div>\n",
              "  </div>\n"
            ],
            "application/vnd.google.colaboratory.intrinsic+json": {
              "type": "dataframe",
              "variable_name": "df_Users"
            }
          },
          "metadata": {},
          "execution_count": 31
        }
      ]
    },
    {
      "cell_type": "markdown",
      "source": [
        "Melihat jumlah baris data dan kolom pada dataset Users"
      ],
      "metadata": {
        "id": "CI_cHv8uPxKr"
      }
    },
    {
      "cell_type": "code",
      "source": [
        "print(\"Number of rows:\", df_Users.shape[0])\n",
        "print(\"Number of columns:\", df_Users.shape[1])"
      ],
      "metadata": {
        "colab": {
          "base_uri": "https://localhost:8080/"
        },
        "id": "5sBQPd5MuMb_",
        "outputId": "2a481899-97fc-4cb4-ad6c-d64bac579eb5"
      },
      "execution_count": null,
      "outputs": [
        {
          "output_type": "stream",
          "name": "stdout",
          "text": [
            "Number of rows: 278858\n",
            "Number of columns: 3\n"
          ]
        }
      ]
    },
    {
      "cell_type": "markdown",
      "source": [
        "Melihat Fitur, tipe data, missing value, dan duplikat data.\n",
        "\n",
        "dimana disini ditemukan 110762 missing values pada data Age, yang hal ini sering ditemukan karena beberapa orang memilih tidak memberitahukan umurnya."
      ],
      "metadata": {
        "id": "PlByGAhnP4h8"
      }
    },
    {
      "cell_type": "code",
      "source": [
        "# Display all available features (columns)\n",
        "print(\"Available Features:\\n\", df_Users.columns.tolist())\n",
        "\n",
        "# Check data types of each feature\n",
        "print(\"\\nData Types:\\n\", df_Users.dtypes)\n",
        "\n",
        "# Check for missing values\n",
        "print(\"\\nMissing Values:\\n\", df_Users.isnull().sum())\n",
        "\n",
        "# Check for duplicate rows\n",
        "print(\"\\nNumber of Duplicate Rows:\", df_Users.duplicated().sum())"
      ],
      "metadata": {
        "colab": {
          "base_uri": "https://localhost:8080/"
        },
        "id": "GleQjP5NvB_l",
        "outputId": "e82814e7-46b4-4437-e692-5a9acd1908ed"
      },
      "execution_count": null,
      "outputs": [
        {
          "output_type": "stream",
          "name": "stdout",
          "text": [
            "Available Features:\n",
            " ['User-ID', 'Location', 'Age']\n",
            "\n",
            "Data Types:\n",
            " User-ID       int64\n",
            "Location     object\n",
            "Age         float64\n",
            "dtype: object\n",
            "\n",
            "Missing Values:\n",
            " User-ID          0\n",
            "Location         0\n",
            "Age         110762\n",
            "dtype: int64\n",
            "\n",
            "Number of Duplicate Rows: 0\n"
          ]
        }
      ]
    },
    {
      "cell_type": "markdown",
      "source": [
        "Melihat apakah ada Outlier pada data Age.\n",
        "\n",
        "Disini dapat dilihat terdapat beberapa Outlier (Umur yang tidak wajar) dari min 0 dan nilai Max 244."
      ],
      "metadata": {
        "id": "6lrHFy9cQYPq"
      }
    },
    {
      "cell_type": "code",
      "source": [
        "# Check for outliers in 'Age' column of df_Users\n",
        "print(\"\\nAge Statistics:\\n\", df_Users['Age'].describe())\n",
        "\n",
        "# Visualize the distribution of 'Age'\n",
        "plt.figure(figsize=(10, 6))\n",
        "sns.boxplot(x=df_Users['Age'])\n",
        "plt.title('Boxplot of User Ages')\n",
        "plt.show()"
      ],
      "metadata": {
        "colab": {
          "base_uri": "https://localhost:8080/",
          "height": 755
        },
        "id": "olsLw0SL7Psm",
        "outputId": "846ae6b6-9771-4919-d26e-999918365d4f"
      },
      "execution_count": null,
      "outputs": [
        {
          "output_type": "stream",
          "name": "stdout",
          "text": [
            "\n",
            "Age Statistics:\n",
            " count    168096.000000\n",
            "mean         34.751434\n",
            "std          14.428097\n",
            "min           0.000000\n",
            "25%          24.000000\n",
            "50%          32.000000\n",
            "75%          44.000000\n",
            "max         244.000000\n",
            "Name: Age, dtype: float64\n"
          ]
        },
        {
          "output_type": "display_data",
          "data": {
            "text/plain": [
              "<Figure size 1000x600 with 1 Axes>"
            ],
            "image/png": "[encoded data removed]"
          },
          "metadata": {}
        }
      ]
    },
    {
      "cell_type": "markdown",
      "source": [
        "melihat data yang dinilai Outlier dengan IQR method"
      ],
      "metadata": {
        "id": "ylk6u7qYQrOJ"
      }
    },
    {
      "cell_type": "code",
      "source": [
        "# Identify outliers using IQR method\n",
        "Q1 = df_Users['Age'].quantile(0.25)\n",
        "Q3 = df_Users['Age'].quantile(0.75)\n",
        "IQR = Q3 - Q1\n",
        "lower_bound = Q1 - 1.5 * IQR\n",
        "upper_bound = Q3 + 1.5 * IQR\n",
        "\n",
        "outliers = df_Users[(df_Users['Age'] < lower_bound) | (df_Users['Age'] > upper_bound)]\n",
        "print(\"\\nNumber of outliers in 'Age':\", len(outliers))\n",
        "print(\"\\nOutliers:\\n\", outliers)"
      ],
      "metadata": {
        "colab": {
          "base_uri": "https://localhost:8080/"
        },
        "id": "PqeBGWPLGrXQ",
        "outputId": "b6ed4c75-5e7b-4374-8108-6c5c41471405"
      },
      "execution_count": 6,
      "outputs": [
        {
          "output_type": "stream",
          "name": "stdout",
          "text": [
            "\n",
            "Number of outliers in 'Age': 1084\n",
            "\n",
            "Outliers:\n",
            "         User-ID                                      Location    Age\n",
            "220         221                      palm beach, florida, usa   79.0\n",
            "689         690                      lake oswego, oregon, usa   80.0\n",
            "957         958                           lindale, texas, usa   78.0\n",
            "1147       1148                  prairie village, kansas, usa   79.0\n",
            "1288       1289                     san jose, california, usa  103.0\n",
            "...         ...                                           ...    ...\n",
            "278301   278302      düsseldorf, nordrhein-westfalen, germany  104.0\n",
            "278317   278318                  studio city, california, usa   77.0\n",
            "278348   278349                           carlin, nevada, usa   76.0\n",
            "278412   278413                    kansas city, missouri, usa   76.0\n",
            "278471   278472  biel-benken bl/schweiz, alabama, switzerland   81.0\n",
            "\n",
            "[1084 rows x 3 columns]\n"
          ]
        }
      ]
    },
    {
      "cell_type": "markdown",
      "source": [
        "### **RATING**\n",
        "\n",
        "dilakukan pengecekan yang sama pada data Rating"
      ],
      "metadata": {
        "id": "fSrvSFDv6rvl"
      }
    },
    {
      "cell_type": "code",
      "source": [
        "df_Ratings.head()"
      ],
      "metadata": {
        "colab": {
          "base_uri": "https://localhost:8080/",
          "height": 206
        },
        "id": "IdXhE5pLzbHk",
        "outputId": "51552d66-ca6c-485c-b249-05488dab65bb"
      },
      "execution_count": null,
      "outputs": [
        {
          "output_type": "execute_result",
          "data": {
            "text/plain": [
              "   User-ID        ISBN  Book-Rating\n",
              "0   276725  034545104X            0\n",
              "1   276726  0155061224            5\n",
              "2   276727  0446520802            0\n",
              "3   276729  052165615X            3\n",
              "4   276729  0521795028            6"
            ],
            "text/html": [
              "\n",
              "  <div id=\"df-ff054c6b-f8be-4bf9-8cd3-2b06e3c6240a\" class=\"colab-df-container\">\n",
              "    <div>\n",
              "<style scoped>\n",
              "    .dataframe tbody tr th:only-of-type {\n",
              "        vertical-align: middle;\n",
              "    }\n",
              "\n",
              "    .dataframe tbody tr th {\n",
              "        vertical-align: top;\n",
              "    }\n",
              "\n",
              "    .dataframe thead th {\n",
              "        text-align: right;\n",
              "    }\n",
              "</style>\n",
              "<table border=\"1\" class=\"dataframe\">\n",
              "  <thead>\n",
              "    <tr style=\"text-align: right;\">\n",
              "      <th></th>\n",
              "      <th>User-ID</th>\n",
              "      <th>ISBN</th>\n",
              "      <th>Book-Rating</th>\n",
              "    </tr>\n",
              "  </thead>\n",
              "  <tbody>\n",
              "    <tr>\n",
              "      <th>0</th>\n",
              "      <td>276725</td>\n",
              "      <td>034545104X</td>\n",
              "      <td>0</td>\n",
              "    </tr>\n",
              "    <tr>\n",
              "      <th>1</th>\n",
              "      <td>276726</td>\n",
              "      <td>0155061224</td>\n",
              "      <td>5</td>\n",
              "    </tr>\n",
              "    <tr>\n",
              "      <th>2</th>\n",
              "      <td>276727</td>\n",
              "      <td>0446520802</td>\n",
              "      <td>0</td>\n",
              "    </tr>\n",
              "    <tr>\n",
              "      <th>3</th>\n",
              "      <td>276729</td>\n",
              "      <td>052165615X</td>\n",
              "      <td>3</td>\n",
              "    </tr>\n",
              "    <tr>\n",
              "      <th>4</th>\n",
              "      <td>276729</td>\n",
              "      <td>0521795028</td>\n",
              "      <td>6</td>\n",
              "    </tr>\n",
              "  </tbody>\n",
              "</table>\n",
              "</div>\n",
              "    <div class=\"colab-df-buttons\">\n",
              "\n",
              "  <div class=\"colab-df-container\">\n",
              "    <button class=\"colab-df-convert\" onclick=\"convertToInteractive('df-ff054c6b-f8be-4bf9-8cd3-2b06e3c6240a')\"\n",
              "            title=\"Convert this dataframe to an interactive table.\"\n",
              "            style=\"display:none;\">\n",
              "\n",
              "  <svg xmlns=\"http://www.w3.org/2000/svg\" height=\"24px\" viewBox=\"0 -960 960 960\">\n",
              "    <path d=\"M120-120v-720h720v720H120Zm60-500h600v-160H180v160Zm220 220h160v-160H400v160Zm0 220h160v-160H400v160ZM180-400h160v-160H180v160Zm440 0h160v-160H620v160ZM180-180h160v-160H180v160Zm440 0h160v-160H620v160Z\"/>\n",
              "  </svg>\n",
              "    </button>\n",
              "\n",
              "  <style>\n",
              "    .colab-df-container {\n",
              "      display:flex;\n",
              "      gap: 12px;\n",
              "    }\n",
              "\n",
              "    .colab-df-convert {\n",
              "      background-color: #E8F0FE;\n",
              "      border: none;\n",
              "      border-radius: 50%;\n",
              "      cursor: pointer;\n",
              "      display: none;\n",
              "      fill: #1967D2;\n",
              "      height: 32px;\n",
              "      padding: 0 0 0 0;\n",
              "      width: 32px;\n",
              "    }\n",
              "\n",
              "    .colab-df-convert:hover {\n",
              "      background-color: #E2EBFA;\n",
              "      box-shadow: 0px 1px 2px rgba(60, 64, 67, 0.3), 0px 1px 3px 1px rgba(60, 64, 67, 0.15);\n",
              "      fill: #174EA6;\n",
              "    }\n",
              "\n",
              "    .colab-df-buttons div {\n",
              "      margin-bottom: 4px;\n",
              "    }\n",
              "\n",
              "    [theme=dark] .colab-df-convert {\n",
              "      background-color: #3B4455;\n",
              "      fill: #D2E3FC;\n",
              "    }\n",
              "\n",
              "    [theme=dark] .colab-df-convert:hover {\n",
              "      background-color: #434B5C;\n",
              "      box-shadow: 0px 1px 3px 1px rgba(0, 0, 0, 0.15);\n",
              "      filter: drop-shadow(0px 1px 2px rgba(0, 0, 0, 0.3));\n",
              "      fill: #FFFFFF;\n",
              "    }\n",
              "  </style>\n",
              "\n",
              "    <script>\n",
              "      const buttonEl =\n",
              "        document.querySelector('#df-ff054c6b-f8be-4bf9-8cd3-2b06e3c6240a button.colab-df-convert');\n",
              "      buttonEl.style.display =\n",
              "        google.colab.kernel.accessAllowed ? 'block' : 'none';\n",
              "\n",
              "      async function convertToInteractive(key) {\n",
              "        const element = document.querySelector('#df-ff054c6b-f8be-4bf9-8cd3-2b06e3c6240a');\n",
              "        const dataTable =\n",
              "          await google.colab.kernel.invokeFunction('convertToInteractive',\n",
              "                                                    [key], {});\n",
              "        if (!dataTable) return;\n",
              "\n",
              "        const docLinkHtml = 'Like what you see? Visit the ' +\n",
              "          '<a target=\"_blank\" href=https://colab.research.google.com/notebooks/data_table.ipynb>data table notebook</a>'\n",
              "          + ' to learn more about interactive tables.';\n",
              "        element.innerHTML = '';\n",
              "        dataTable['output_type'] = 'display_data';\n",
              "        await google.colab.output.renderOutput(dataTable, element);\n",
              "        const docLink = document.createElement('div');\n",
              "        docLink.innerHTML = docLinkHtml;\n",
              "        element.appendChild(docLink);\n",
              "      }\n",
              "    </script>\n",
              "  </div>\n",
              "\n",
              "\n",
              "    <div id=\"df-06c064a0-a3b1-4fba-9ed3-86633b253a34\">\n",
              "      <button class=\"colab-df-quickchart\" onclick=\"quickchart('df-06c064a0-a3b1-4fba-9ed3-86633b253a34')\"\n",
              "                title=\"Suggest charts\"\n",
              "                style=\"display:none;\">\n",
              "\n",
              "<svg xmlns=\"http://www.w3.org/2000/svg\" height=\"24px\"viewBox=\"0 0 24 24\"\n",
              "     width=\"24px\">\n",
              "    <g>\n",
              "        <path d=\"M19 3H5c-1.1 0-2 .9-2 2v14c0 1.1.9 2 2 2h14c1.1 0 2-.9 2-2V5c0-1.1-.9-2-2-2zM9 17H7v-7h2v7zm4 0h-2V7h2v10zm4 0h-2v-4h2v4z\"/>\n",
              "    </g>\n",
              "</svg>\n",
              "      </button>\n",
              "\n",
              "<style>\n",
              "  .colab-df-quickchart {\n",
              "      --bg-color: #E8F0FE;\n",
              "      --fill-color: #1967D2;\n",
              "      --hover-bg-color: #E2EBFA;\n",
              "      --hover-fill-color: #174EA6;\n",
              "      --disabled-fill-color: #AAA;\n",
              "      --disabled-bg-color: #DDD;\n",
              "  }\n",
              "\n",
              "  [theme=dark] .colab-df-quickchart {\n",
              "      --bg-color: #3B4455;\n",
              "      --fill-color: #D2E3FC;\n",
              "      --hover-bg-color: #434B5C;\n",
              "      --hover-fill-color: #FFFFFF;\n",
              "      --disabled-bg-color: #3B4455;\n",
              "      --disabled-fill-color: #666;\n",
              "  }\n",
              "\n",
              "  .colab-df-quickchart {\n",
              "    background-color: var(--bg-color);\n",
              "    border: none;\n",
              "    border-radius: 50%;\n",
              "    cursor: pointer;\n",
              "    display: none;\n",
              "    fill: var(--fill-color);\n",
              "    height: 32px;\n",
              "    padding: 0;\n",
              "    width: 32px;\n",
              "  }\n",
              "\n",
              "  .colab-df-quickchart:hover {\n",
              "    background-color: var(--hover-bg-color);\n",
              "    box-shadow: 0 1px 2px rgba(60, 64, 67, 0.3), 0 1px 3px 1px rgba(60, 64, 67, 0.15);\n",
              "    fill: var(--button-hover-fill-color);\n",
              "  }\n",
              "\n",
              "  .colab-df-quickchart-complete:disabled,\n",
              "  .colab-df-quickchart-complete:disabled:hover {\n",
              "    background-color: var(--disabled-bg-color);\n",
              "    fill: var(--disabled-fill-color);\n",
              "    box-shadow: none;\n",
              "  }\n",
              "\n",
              "  .colab-df-spinner {\n",
              "    border: 2px solid var(--fill-color);\n",
              "    border-color: transparent;\n",
              "    border-bottom-color: var(--fill-color);\n",
              "    animation:\n",
              "      spin 1s steps(1) infinite;\n",
              "  }\n",
              "\n",
              "  @keyframes spin {\n",
              "    0% {\n",
              "      border-color: transparent;\n",
              "      border-bottom-color: var(--fill-color);\n",
              "      border-left-color: var(--fill-color);\n",
              "    }\n",
              "    20% {\n",
              "      border-color: transparent;\n",
              "      border-left-color: var(--fill-color);\n",
              "      border-top-color: var(--fill-color);\n",
              "    }\n",
              "    30% {\n",
              "      border-color: transparent;\n",
              "      border-left-color: var(--fill-color);\n",
              "      border-top-color: var(--fill-color);\n",
              "      border-right-color: var(--fill-color);\n",
              "    }\n",
              "    40% {\n",
              "      border-color: transparent;\n",
              "      border-right-color: var(--fill-color);\n",
              "      border-top-color: var(--fill-color);\n",
              "    }\n",
              "    60% {\n",
              "      border-color: transparent;\n",
              "      border-right-color: var(--fill-color);\n",
              "    }\n",
              "    80% {\n",
              "      border-color: transparent;\n",
              "      border-right-color: var(--fill-color);\n",
              "      border-bottom-color: var(--fill-color);\n",
              "    }\n",
              "    90% {\n",
              "      border-color: transparent;\n",
              "      border-bottom-color: var(--fill-color);\n",
              "    }\n",
              "  }\n",
              "</style>\n",
              "\n",
              "      <script>\n",
              "        async function quickchart(key) {\n",
              "          const quickchartButtonEl =\n",
              "            document.querySelector('#' + key + ' button');\n",
              "          quickchartButtonEl.disabled = true;  // To prevent multiple clicks.\n",
              "          quickchartButtonEl.classList.add('colab-df-spinner');\n",
              "          try {\n",
              "            const charts = await google.colab.kernel.invokeFunction(\n",
              "                'suggestCharts', [key], {});\n",
              "          } catch (error) {\n",
              "            console.error('Error during call to suggestCharts:', error);\n",
              "          }\n",
              "          quickchartButtonEl.classList.remove('colab-df-spinner');\n",
              "          quickchartButtonEl.classList.add('colab-df-quickchart-complete');\n",
              "        }\n",
              "        (() => {\n",
              "          let quickchartButtonEl =\n",
              "            document.querySelector('#df-06c064a0-a3b1-4fba-9ed3-86633b253a34 button');\n",
              "          quickchartButtonEl.style.display =\n",
              "            google.colab.kernel.accessAllowed ? 'block' : 'none';\n",
              "        })();\n",
              "      </script>\n",
              "    </div>\n",
              "\n",
              "    </div>\n",
              "  </div>\n"
            ],
            "application/vnd.google.colaboratory.intrinsic+json": {
              "type": "dataframe",
              "variable_name": "df_Ratings"
            }
          },
          "metadata": {},
          "execution_count": 8
        }
      ]
    },
    {
      "cell_type": "markdown",
      "source": [
        "Melihat Jumlah bari dan kolom pada dataset Ratings"
      ],
      "metadata": {
        "id": "em4_WvLHQ2vF"
      }
    },
    {
      "cell_type": "code",
      "source": [
        "print(\"Number of rows:\", df_Ratings.shape[0])\n",
        "print(\"Number of columns:\", df_Ratings.shape[1])"
      ],
      "metadata": {
        "colab": {
          "base_uri": "https://localhost:8080/"
        },
        "id": "aN0naQcS6p2B",
        "outputId": "b5bbaeb5-f891-4441-c1e6-f198b07c1769"
      },
      "execution_count": null,
      "outputs": [
        {
          "output_type": "stream",
          "name": "stdout",
          "text": [
            "Number of rows: 1149780\n",
            "Number of columns: 3\n"
          ]
        }
      ]
    },
    {
      "cell_type": "markdown",
      "source": [
        "Melihat semua Fitur pada dataset, Jenis tipe data, missing value dan Duplikat. yang dimana tidak ditemukan disini."
      ],
      "metadata": {
        "id": "otVb3dJ0RA2H"
      }
    },
    {
      "cell_type": "code",
      "source": [
        "# Display all available features (columns)\n",
        "print(\"Available Features:\\n\", df_Ratings.columns.tolist())\n",
        "\n",
        "# Check data types of each feature\n",
        "print(\"\\nData Types:\\n\", df_Ratings.dtypes)\n",
        "\n",
        "# Check for missing values\n",
        "print(\"\\nMissing Values:\\n\", df_Ratings.isnull().sum())\n",
        "\n",
        "# Check for duplicate rows\n",
        "print(\"\\nNumber of Duplicate Rows:\", df_Ratings.duplicated().sum())"
      ],
      "metadata": {
        "colab": {
          "base_uri": "https://localhost:8080/"
        },
        "id": "H_LVwiOa64p4",
        "outputId": "a672a928-8888-4675-b5b4-4ee01259aeb6"
      },
      "execution_count": null,
      "outputs": [
        {
          "output_type": "stream",
          "name": "stdout",
          "text": [
            "Available Features:\n",
            " ['User-ID', 'ISBN', 'Book-Rating']\n",
            "\n",
            "Data Types:\n",
            " User-ID         int64\n",
            "ISBN           object\n",
            "Book-Rating     int64\n",
            "dtype: object\n",
            "\n",
            "Missing Values:\n",
            " User-ID        0\n",
            "ISBN           0\n",
            "Book-Rating    0\n",
            "dtype: int64\n",
            "\n",
            "Number of Duplicate Rows: 0\n"
          ]
        }
      ]
    },
    {
      "cell_type": "markdown",
      "source": [
        "# **Exploratory Data Analyst (EDA)**"
      ],
      "metadata": {
        "id": "jeRJC3WALV_b"
      }
    },
    {
      "cell_type": "markdown",
      "source": [
        "Melihat Publisher yang mempublish buku terbanyak pada dataset ini, yaitu :\n",
        "\n",
        "Harlequin\t7535\n",
        "\n",
        "Silhouette\t4220\n",
        "\n",
        "Pocket\t3905\n",
        "\n",
        "Ballantine Books\t3783\n",
        "\n",
        "Bantam Books"
      ],
      "metadata": {
        "id": "PKXzrBhaRpM2"
      }
    },
    {
      "cell_type": "code",
      "source": [
        "df_book['Publisher'].value_counts()"
      ],
      "metadata": {
        "colab": {
          "base_uri": "https://localhost:8080/",
          "height": 490
        },
        "id": "-qRwa0pnIYza",
        "outputId": "12101788-32ec-4a1e-8521-a0d24375289d"
      },
      "execution_count": null,
      "outputs": [
        {
          "output_type": "execute_result",
          "data": {
            "text/plain": [
              "Publisher\n",
              "Harlequin                          7535\n",
              "Silhouette                         4220\n",
              "Pocket                             3905\n",
              "Ballantine Books                   3783\n",
              "Bantam Books                       3646\n",
              "                                   ... \n",
              "Scholastic (An Apple Paperback)       1\n",
              "Spencer Butte Press                   1\n",
              "Kowalski                              1\n",
              "Madere Enterprises                    1\n",
              "Scholstic                             1\n",
              "Name: count, Length: 16807, dtype: int64"
            ],
            "text/html": [
              "<div>\n",
              "<style scoped>\n",
              "    .dataframe tbody tr th:only-of-type {\n",
              "        vertical-align: middle;\n",
              "    }\n",
              "\n",
              "    .dataframe tbody tr th {\n",
              "        vertical-align: top;\n",
              "    }\n",
              "\n",
              "    .dataframe thead th {\n",
              "        text-align: right;\n",
              "    }\n",
              "</style>\n",
              "<table border=\"1\" class=\"dataframe\">\n",
              "  <thead>\n",
              "    <tr style=\"text-align: right;\">\n",
              "      <th></th>\n",
              "      <th>count</th>\n",
              "    </tr>\n",
              "    <tr>\n",
              "      <th>Publisher</th>\n",
              "      <th></th>\n",
              "    </tr>\n",
              "  </thead>\n",
              "  <tbody>\n",
              "    <tr>\n",
              "      <th>Harlequin</th>\n",
              "      <td>7535</td>\n",
              "    </tr>\n",
              "    <tr>\n",
              "      <th>Silhouette</th>\n",
              "      <td>4220</td>\n",
              "    </tr>\n",
              "    <tr>\n",
              "      <th>Pocket</th>\n",
              "      <td>3905</td>\n",
              "    </tr>\n",
              "    <tr>\n",
              "      <th>Ballantine Books</th>\n",
              "      <td>3783</td>\n",
              "    </tr>\n",
              "    <tr>\n",
              "      <th>Bantam Books</th>\n",
              "      <td>3646</td>\n",
              "    </tr>\n",
              "    <tr>\n",
              "      <th>...</th>\n",
              "      <td>...</td>\n",
              "    </tr>\n",
              "    <tr>\n",
              "      <th>Scholastic (An Apple Paperback)</th>\n",
              "      <td>1</td>\n",
              "    </tr>\n",
              "    <tr>\n",
              "      <th>Spencer Butte Press</th>\n",
              "      <td>1</td>\n",
              "    </tr>\n",
              "    <tr>\n",
              "      <th>Kowalski</th>\n",
              "      <td>1</td>\n",
              "    </tr>\n",
              "    <tr>\n",
              "      <th>Madere Enterprises</th>\n",
              "      <td>1</td>\n",
              "    </tr>\n",
              "    <tr>\n",
              "      <th>Scholstic</th>\n",
              "      <td>1</td>\n",
              "    </tr>\n",
              "  </tbody>\n",
              "</table>\n",
              "<p>16807 rows × 1 columns</p>\n",
              "</div><br><label><b>dtype:</b> int64</label>"
            ]
          },
          "metadata": {},
          "execution_count": 18
        }
      ]
    },
    {
      "cell_type": "markdown",
      "source": [
        "Melihat Author yang memiliki buku terbanyak pada dataset ini, yaitu :\n",
        "\n",
        "Agatha Christie\t632\n",
        "\n",
        "William Shakespeare\t567\n",
        "\n",
        "Stephen King\t524\n",
        "\n",
        "Ann M. Martin\t423\n",
        "\n",
        "Carolyn Keene\t373"
      ],
      "metadata": {
        "id": "nceBTmsTR-Fm"
      }
    },
    {
      "cell_type": "code",
      "source": [
        "df_book['Book-Author'].value_counts()"
      ],
      "metadata": {
        "colab": {
          "base_uri": "https://localhost:8080/",
          "height": 490
        },
        "id": "CdbSZ3VVInLm",
        "outputId": "09ace8d3-119c-40b9-bca2-4edf4d223c64"
      },
      "execution_count": null,
      "outputs": [
        {
          "output_type": "execute_result",
          "data": {
            "text/plain": [
              "Book-Author\n",
              "Agatha Christie            632\n",
              "William Shakespeare        567\n",
              "Stephen King               524\n",
              "Ann M. Martin              423\n",
              "Carolyn Keene              373\n",
              "                          ... \n",
              "JÃ¶rn Kalkbrenner            1\n",
              "Paul A. Lynn                 1\n",
              "Arthur Bernard Williams      1\n",
              "Fred Ruckdeschel             1\n",
              "Glass Charles                1\n",
              "Name: count, Length: 102022, dtype: int64"
            ],
            "text/html": [
              "<div>\n",
              "<style scoped>\n",
              "    .dataframe tbody tr th:only-of-type {\n",
              "        vertical-align: middle;\n",
              "    }\n",
              "\n",
              "    .dataframe tbody tr th {\n",
              "        vertical-align: top;\n",
              "    }\n",
              "\n",
              "    .dataframe thead th {\n",
              "        text-align: right;\n",
              "    }\n",
              "</style>\n",
              "<table border=\"1\" class=\"dataframe\">\n",
              "  <thead>\n",
              "    <tr style=\"text-align: right;\">\n",
              "      <th></th>\n",
              "      <th>count</th>\n",
              "    </tr>\n",
              "    <tr>\n",
              "      <th>Book-Author</th>\n",
              "      <th></th>\n",
              "    </tr>\n",
              "  </thead>\n",
              "  <tbody>\n",
              "    <tr>\n",
              "      <th>Agatha Christie</th>\n",
              "      <td>632</td>\n",
              "    </tr>\n",
              "    <tr>\n",
              "      <th>William Shakespeare</th>\n",
              "      <td>567</td>\n",
              "    </tr>\n",
              "    <tr>\n",
              "      <th>Stephen King</th>\n",
              "      <td>524</td>\n",
              "    </tr>\n",
              "    <tr>\n",
              "      <th>Ann M. Martin</th>\n",
              "      <td>423</td>\n",
              "    </tr>\n",
              "    <tr>\n",
              "      <th>Carolyn Keene</th>\n",
              "      <td>373</td>\n",
              "    </tr>\n",
              "    <tr>\n",
              "      <th>...</th>\n",
              "      <td>...</td>\n",
              "    </tr>\n",
              "    <tr>\n",
              "      <th>JÃ¶rn Kalkbrenner</th>\n",
              "      <td>1</td>\n",
              "    </tr>\n",
              "    <tr>\n",
              "      <th>Paul A. Lynn</th>\n",
              "      <td>1</td>\n",
              "    </tr>\n",
              "    <tr>\n",
              "      <th>Arthur Bernard Williams</th>\n",
              "      <td>1</td>\n",
              "    </tr>\n",
              "    <tr>\n",
              "      <th>Fred Ruckdeschel</th>\n",
              "      <td>1</td>\n",
              "    </tr>\n",
              "    <tr>\n",
              "      <th>Glass Charles</th>\n",
              "      <td>1</td>\n",
              "    </tr>\n",
              "  </tbody>\n",
              "</table>\n",
              "<p>102022 rows × 1 columns</p>\n",
              "</div><br><label><b>dtype:</b> int64</label>"
            ]
          },
          "metadata": {},
          "execution_count": 19
        }
      ]
    },
    {
      "cell_type": "markdown",
      "source": [
        "Melihat Distribusi dari Ratings.\n",
        "\n",
        "dimana disini Rating 0 adalah tidak memberikan penilaian terhadap bukunya."
      ],
      "metadata": {
        "id": "_TwIjJefSG5x"
      }
    },
    {
      "cell_type": "code",
      "source": [
        "# Check the distribution of ratings\n",
        "print(df_Ratings['Book-Rating'].describe())\n",
        "\n",
        "# Visualize the distribution of ratings\n",
        "plt.figure(figsize=(10, 6))\n",
        "sns.countplot(x='Book-Rating', data=df_Ratings)\n",
        "plt.title('Distribution of Book Ratings')\n",
        "plt.xlabel('Rating')\n",
        "plt.ylabel('Count')\n",
        "plt.show()\n"
      ],
      "metadata": {
        "colab": {
          "base_uri": "https://localhost:8080/",
          "height": 730
        },
        "id": "gLLZx5gS7C2j",
        "outputId": "07150ba9-195b-4a78-cd7e-b06de34d202c"
      },
      "execution_count": null,
      "outputs": [
        {
          "output_type": "stream",
          "name": "stdout",
          "text": [
            "count    1.149780e+06\n",
            "mean     2.866950e+00\n",
            "std      3.854184e+00\n",
            "min      0.000000e+00\n",
            "25%      0.000000e+00\n",
            "50%      0.000000e+00\n",
            "75%      7.000000e+00\n",
            "max      1.000000e+01\n",
            "Name: Book-Rating, dtype: float64\n"
          ]
        },
        {
          "output_type": "display_data",
          "data": {
            "text/plain": [
              "<Figure size 1000x600 with 1 Axes>"
            ],
            "image/png": "[encoded data removed]"
          },
          "metadata": {}
        }
      ]
    },
    {
      "cell_type": "markdown",
      "source": [
        "Melihat Buku yang paling banyak di Rating oleh User, yaitu :\n",
        "\n",
        "Wild Animus        2502.0\n",
        "\n",
        "The Lovely Bones: A Novel        1295.0\n",
        "\n",
        "The Da Vinci Code         883.0\n",
        "\n",
        "Divine Secrets of the Ya-Ya Sisterhood: A Novel         732.0\n",
        "\n",
        "The Red Tent (Bestselling Backlist)         723.0"
      ],
      "metadata": {
        "id": "UmSDjnhnS0OI"
      }
    },
    {
      "cell_type": "code",
      "source": [
        "# Calculate the popularity of books based on the number of ratings\n",
        "book_popularity = df_Ratings.groupby('ISBN')['Book-Rating'].count().reset_index()\n",
        "book_popularity.rename(columns={'Book-Rating': 'Rating_Count'}, inplace=True)\n",
        "\n",
        "# Merge popularity data with book information\n",
        "df_merged = pd.merge(df_book, book_popularity, on='ISBN', how='left')\n",
        "\n",
        "# Sort books by rating count in descending order and get the top 10\n",
        "top_10_books = df_merged.sort_values(by='Rating_Count', ascending=False).head(10)\n",
        "\n",
        "# Display the top 10 books with their titles and rating counts\n",
        "print(top_10_books[['Book-Title', 'Rating_Count']])\n"
      ],
      "metadata": {
        "colab": {
          "base_uri": "https://localhost:8080/"
        },
        "id": "_6HxbhLyAvbd",
        "outputId": "79dd1d5e-5e90-4cfe-b3bc-258c88b85116"
      },
      "execution_count": null,
      "outputs": [
        {
          "output_type": "stream",
          "name": "stdout",
          "text": [
            "                                             Book-Title  Rating_Count\n",
            "26                                          Wild Animus        2502.0\n",
            "408                           The Lovely Bones: A Novel        1295.0\n",
            "748                                   The Da Vinci Code         883.0\n",
            "1105    Divine Secrets of the Ya-Ya Sisterhood: A Novel         732.0\n",
            "522                 The Red Tent (Bestselling Backlist)         723.0\n",
            "305                                     A Painted House         647.0\n",
            "356                             The Secret Life of Bees         615.0\n",
            "1922                             Snow Falling on Cedars         614.0\n",
            "118                                 Angels &amp; Demons         586.0\n",
            "706   Where the Heart Is (Oprah's Book Club (Paperba...         585.0\n"
          ]
        }
      ]
    },
    {
      "cell_type": "markdown",
      "source": [
        "User teraktif yang memberikan Rating, yaitu user dengan Id 11676"
      ],
      "metadata": {
        "id": "B4FxKLzKTOVj"
      }
    },
    {
      "cell_type": "code",
      "source": [
        "top_active_user = df_Ratings['User-ID'].value_counts().idxmax()\n",
        "print(f\"The most active user is: {top_active_user}\")"
      ],
      "metadata": {
        "colab": {
          "base_uri": "https://localhost:8080/"
        },
        "id": "jKmevCZXXs4N",
        "outputId": "a783b0d7-05e9-49fd-f2ab-8d883257833d"
      },
      "execution_count": null,
      "outputs": [
        {
          "output_type": "stream",
          "name": "stdout",
          "text": [
            "The most active user is: 11676\n"
          ]
        }
      ]
    },
    {
      "cell_type": "markdown",
      "source": [
        "Melihat Negara dengan Jumlah User terbanyak, dimana disini dapat dilihat USA menepati nomor datu, kemudian Canada dan setelahnya UK."
      ],
      "metadata": {
        "id": "DHVaIZ6mTW3K"
      }
    },
    {
      "cell_type": "code",
      "source": [
        "# Pisahkan kolom location menjadi kota, negara bagian, negara\n",
        "df_Users[['city', 'state', 'country']] = df_Users['Location'].str.split(',', expand=True, n=2)\n",
        "df_Users['country'] = df_Users['country'].str.strip()  # Hilangkan spasi\n",
        "\n",
        "# Hitung jumlah user per negara\n",
        "top_countries = df_Users['country'].value_counts().head(10)\n",
        "\n",
        "# Plot top 10 negara dengan user terbanyak\n",
        "plt.figure(figsize=(10,6))\n",
        "sns.barplot(x=top_countries.values, y=top_countries.index, palette='viridis')\n",
        "plt.title('Top 10 Negara dengan Jumlah User Terbanyak')\n",
        "plt.xlabel('Jumlah User')\n",
        "plt.ylabel('Negara')\n",
        "plt.tight_layout()\n",
        "plt.show()"
      ],
      "metadata": {
        "colab": {
          "base_uri": "https://localhost:8080/",
          "height": 512
        },
        "id": "fMAy2QWQisgv",
        "outputId": "ce382cbb-921e-477c-e13b-9f4f91c44ee9"
      },
      "execution_count": null,
      "outputs": [
        {
          "output_type": "stream",
          "name": "stderr",
          "text": [
            "<ipython-input-14-1a292545f90a>:10: FutureWarning: \n",
            "\n",
            "Passing `palette` without assigning `hue` is deprecated and will be removed in v0.14.0. Assign the `y` variable to `hue` and set `legend=False` for the same effect.\n",
            "\n",
            "  sns.barplot(x=top_countries.values, y=top_countries.index, palette='viridis')\n"
          ]
        },
        {
          "output_type": "display_data",
          "data": {
            "text/plain": [
              "<Figure size 1000x600 with 1 Axes>"
            ],
            "image/png": "[encoded data removed]"
          },
          "metadata": {}
        }
      ]
    },
    {
      "cell_type": "markdown",
      "source": [
        "Disini diperlihatkan untuk Distribusi Usia pengguna.\n"
      ],
      "metadata": {
        "id": "Vrqts7EJTqeQ"
      }
    },
    {
      "cell_type": "code",
      "source": [
        "# Filter usia valid (range 5 - 100 tahun)\n",
        "df_users_clean = df_Users[(df_Users['Age'] >= 5) & (df_Users['Age'] <= 100)]\n",
        "\n",
        "# Histogram distribusi usia\n",
        "plt.figure(figsize=(10,6))\n",
        "sns.histplot(df_users_clean['Age'], bins=20, kde=True, color='skyblue')\n",
        "plt.title('Distribusi Usia Pengguna')\n",
        "plt.xlabel('Usia')\n",
        "plt.ylabel('Jumlah Pengguna')\n",
        "plt.tight_layout()\n",
        "plt.show()\n",
        "\n",
        "# Tambahan: Plot distribusi kelompok usia\n",
        "bins = [0, 10, 20, 30, 40, 50, 60, 70, 100]\n",
        "labels = ['0-10','11-20','21-30','31-40','41-50','51-60','61-70','71+']\n",
        "df_users_clean['AgeGroup'] = pd.cut(df_users_clean['Age'], bins=bins, labels=labels, right=False)\n",
        "\n",
        "age_group_counts = df_users_clean['AgeGroup'].value_counts().sort_index()\n",
        "\n",
        "plt.figure(figsize=(10,6))\n",
        "sns.barplot(x=age_group_counts.index, y=age_group_counts.values, palette='coolwarm')\n",
        "plt.title('Distribusi Pengguna Berdasarkan Kelompok Usia')\n",
        "plt.xlabel('Kelompok Usia')\n",
        "plt.ylabel('Jumlah Pengguna')\n",
        "plt.tight_layout()\n",
        "plt.show()\n"
      ],
      "metadata": {
        "colab": {
          "base_uri": "https://localhost:8080/",
          "height": 1000
        },
        "id": "yNiGyZnRi504",
        "outputId": "3cb89c68-167f-460b-a85f-db5f2ffad2df"
      },
      "execution_count": null,
      "outputs": [
        {
          "output_type": "display_data",
          "data": {
            "text/plain": [
              "<Figure size 1000x600 with 1 Axes>"
            ],
            "image/png": "[encoded data removed]"
          },
          "metadata": {}
        },
        {
          "output_type": "stream",
          "name": "stderr",
          "text": [
            "<ipython-input-8-9a166ff3d2cb>:16: SettingWithCopyWarning: \n",
            "A value is trying to be set on a copy of a slice from a DataFrame.\n",
            "Try using .loc[row_indexer,col_indexer] = value instead\n",
            "\n",
            "See the caveats in the documentation: https://pandas.pydata.org/pandas-docs/stable/user_guide/indexing.html#returning-a-view-versus-a-copy\n",
            "  df_users_clean['AgeGroup'] = pd.cut(df_users_clean['Age'], bins=bins, labels=labels, right=False)\n",
            "<ipython-input-8-9a166ff3d2cb>:21: FutureWarning: \n",
            "\n",
            "Passing `palette` without assigning `hue` is deprecated and will be removed in v0.14.0. Assign the `x` variable to `hue` and set `legend=False` for the same effect.\n",
            "\n",
            "  sns.barplot(x=age_group_counts.index, y=age_group_counts.values, palette='coolwarm')\n"
          ]
        },
        {
          "output_type": "display_data",
          "data": {
            "text/plain": [
              "<Figure size 1000x600 with 1 Axes>"
            ],
            "image/png": "[encoded data removed]"
          },
          "metadata": {}
        }
      ]
    },
    {
      "cell_type": "markdown",
      "source": [
        "# **Data Preparation**"
      ],
      "metadata": {
        "id": "j3ajc-kJ2AzJ"
      }
    },
    {
      "cell_type": "markdown",
      "source": [
        "Penjelasan: Mengubah kolom tahun publikasi menjadi tipe numerik. Jika ada nilai tidak valid (misalnya teks), akan diubah jadi NaN.\n",
        "\n",
        "Tujuan: Supaya bisa dianalisis atau difilter sebagai angka, bukan string."
      ],
      "metadata": {
        "id": "bi-sbbKoUlRY"
      }
    },
    {
      "cell_type": "code",
      "source": [
        "df_book['Year-Of-Publication'] = pd.to_numeric(df_book['Year-Of-Publication'], errors='coerce')\n",
        "print(df_book['Year-Of-Publication'].dtype)"
      ],
      "metadata": {
        "colab": {
          "base_uri": "https://localhost:8080/"
        },
        "id": "hH4SFPZc8eqi",
        "outputId": "38f4d9f8-8258-409c-fd0c-e2ea5c33ba75"
      },
      "execution_count": 7,
      "outputs": [
        {
          "output_type": "stream",
          "name": "stdout",
          "text": [
            "float64\n"
          ]
        }
      ]
    },
    {
      "cell_type": "markdown",
      "source": [
        "Penjelasan: Menghapus data buku dengan tahun publikasi yang tidak wajar (di luar 1980–2024).\n",
        "\n",
        "Tujuan: Menghindari data outlier yang bisa mengganggu analisis atau rekomendasi (misalnya tahun 0 atau 9999)."
      ],
      "metadata": {
        "id": "JoBwdFRAWaGo"
      }
    },
    {
      "cell_type": "code",
      "source": [
        "df_book = df_book[(df_book['Year-Of-Publication'] >= 1980) & (df_book['Year-Of-Publication'] <= 2024)]\n",
        "print(df_book['Year-Of-Publication'].describe())"
      ],
      "metadata": {
        "colab": {
          "base_uri": "https://localhost:8080/"
        },
        "id": "PkwlzYUPFjEH",
        "outputId": "f892b276-5131-4e31-f2bf-d98932566ece"
      },
      "execution_count": 8,
      "outputs": [
        {
          "output_type": "stream",
          "name": "stdout",
          "text": [
            "count    251269.000000\n",
            "mean       1994.965611\n",
            "std           6.183879\n",
            "min        1980.000000\n",
            "25%        1991.000000\n",
            "50%        1996.000000\n",
            "75%        2000.000000\n",
            "max        2024.000000\n",
            "Name: Year-Of-Publication, dtype: float64\n"
          ]
        }
      ]
    },
    {
      "cell_type": "markdown",
      "source": [
        "Penjelasan: Menghapus baris yang memiliki nilai kosong di kolom penting seperti penulis, penerbit, dan gambar.\n",
        "\n",
        "Tujuan: Kolom ini penting untuk filtering konten dan tampilan aplikasi, jadi harus lengkap."
      ],
      "metadata": {
        "id": "2si67-g5WfhH"
      }
    },
    {
      "cell_type": "code",
      "source": [
        "# Drop rows with missing values in 'Book-Author', 'Publisher', and 'Image-URL-M'\n",
        "df_book.dropna(subset=['Book-Author', 'Publisher', 'Image-URL-L'], inplace=True)\n",
        "\n",
        "# Verify the changes (optional)\n",
        "print(\"\\nMissing Values after dropping:\\n\", df_book.isnull().sum())\n",
        "print(\"Number of rows after dropping missing values:\", df_book.shape[0])\n"
      ],
      "metadata": {
        "colab": {
          "base_uri": "https://localhost:8080/"
        },
        "id": "uXKN9zlKN_l4",
        "outputId": "fac204ca-d116-4855-8a47-e7191292a2cd"
      },
      "execution_count": 9,
      "outputs": [
        {
          "output_type": "stream",
          "name": "stdout",
          "text": [
            "\n",
            "Missing Values after dropping:\n",
            " ISBN                   0\n",
            "Book-Title             0\n",
            "Book-Author            0\n",
            "Year-Of-Publication    0\n",
            "Publisher              0\n",
            "Image-URL-S            0\n",
            "Image-URL-M            0\n",
            "Image-URL-L            0\n",
            "dtype: int64\n",
            "Number of rows after dropping missing values: 251265\n"
          ]
        }
      ]
    },
    {
      "cell_type": "markdown",
      "source": [
        "Penjelasan: Menghapus data pengguna dengan umur yang tidak wajar berdasarkan batas bawah dan atas yang telah ditentukan.\n",
        "\n",
        "Tujuan: Umur ekstrem atau tidak masuk akal bisa bias terhadap analisis demografi pengguna."
      ],
      "metadata": {
        "id": "FOfzmXwOWias"
      }
    },
    {
      "cell_type": "code",
      "source": [
        "df_Users = df_Users[(df_Users['Age'] >= lower_bound) & (df_Users['Age'] <= upper_bound)]\n",
        "print(\"\\nNumber of rows after removing outliers:\", len(df_Users))\n",
        "print(\"\\nAge Statistics:\\n\", df_Users['Age'].describe())"
      ],
      "metadata": {
        "colab": {
          "base_uri": "https://localhost:8080/"
        },
        "id": "7iRU8zS7HEy6",
        "outputId": "72128167-b089-4540-a7e7-5fef8dffafdd"
      },
      "execution_count": 10,
      "outputs": [
        {
          "output_type": "stream",
          "name": "stdout",
          "text": [
            "\n",
            "Number of rows after removing outliers: 167012\n",
            "\n",
            "Age Statistics:\n",
            " count    167012.000000\n",
            "mean         34.373590\n",
            "std          13.517693\n",
            "min           0.000000\n",
            "25%          24.000000\n",
            "50%          32.000000\n",
            "75%          44.000000\n",
            "max          74.000000\n",
            "Name: Age, dtype: float64\n"
          ]
        }
      ]
    },
    {
      "cell_type": "markdown",
      "source": [
        "Penjelasan: Menggabungkan tabel rating dengan user dan buku untuk mendapatkan data lengkap dalam satu tabel.\n",
        "\n",
        "Tujuan: Collaborative Filtering membutuhkan informasi pengguna, buku, dan rating dalam satu struktur data."
      ],
      "metadata": {
        "id": "cl9WZ11_WnsE"
      }
    },
    {
      "cell_type": "code",
      "source": [
        "# Gabung ratings dengan users\n",
        "df_merged = df_Ratings.merge(df_Users, on='User-ID', how='left')\n",
        "\n",
        "# Gabung hasilnya dengan books\n",
        "df_merged = df_merged.merge(df_book, on='ISBN', how='left')\n",
        "\n",
        "# Tampilkan dimensi awal\n",
        "print(\"Jumlah data setelah merge:\", df_merged.shape)\n"
      ],
      "metadata": {
        "colab": {
          "base_uri": "https://localhost:8080/"
        },
        "id": "JlwDeLa5jg81",
        "outputId": "2b620498-5d19-40fd-ead8-083f1068b8ad"
      },
      "execution_count": 11,
      "outputs": [
        {
          "output_type": "stream",
          "name": "stdout",
          "text": [
            "Jumlah data setelah merge: (1149780, 12)\n"
          ]
        }
      ]
    },
    {
      "cell_type": "markdown",
      "source": [
        "Penjelasan: Menghapus rating 0, yang dianggap sebagai rating implisit atau tidak sah.\n",
        "\n",
        "Tujuan: Collaborative Filtering biasanya menggunakan rating eksplisit (yang benar-benar diberikan pengguna)."
      ],
      "metadata": {
        "id": "99Yuv8sEWqhW"
      }
    },
    {
      "cell_type": "code",
      "source": [
        "# Hapus rating implisit (rating = 0)\n",
        "df_merged = df_merged[df_merged['Book-Rating'] > 0]\n",
        "print(\"Jumlah data setelah filter rating eksplisit:\", df_merged.shape)"
      ],
      "metadata": {
        "colab": {
          "base_uri": "https://localhost:8080/"
        },
        "id": "FV-ai8oUkzXP",
        "outputId": "86c4c0e5-939e-4078-c9f0-390f6826bd26"
      },
      "execution_count": 12,
      "outputs": [
        {
          "output_type": "stream",
          "name": "stdout",
          "text": [
            "Jumlah data setelah filter rating eksplisit: (433671, 12)\n"
          ]
        }
      ]
    },
    {
      "cell_type": "markdown",
      "source": [
        "Penjelasan: Menyaring hanya user dan buku yang muncul lebih dari satu kali.\n",
        "\n",
        "Tujuan: Untuk meningkatkan kualitas data, karena interaksi tunggal sulit digunakan dalam Collaborative Filtering."
      ],
      "metadata": {
        "id": "SVZjI8mfWuaw"
      }
    },
    {
      "cell_type": "code",
      "source": [
        "# Hitung frekuensi user dan buku\n",
        "user_counts = df_merged['User-ID'].value_counts()\n",
        "book_counts = df_merged['ISBN'].value_counts()\n",
        "\n",
        "# Ambil hanya user dan buku yang muncul lebih dari 1 kali\n",
        "df_merged = df_merged[\n",
        "    df_merged['User-ID'].isin(user_counts[user_counts > 1].index) &\n",
        "    df_merged['ISBN'].isin(book_counts[book_counts > 1].index)\n",
        "]\n",
        "print(\"Jumlah data setelah filter user & buku langka:\", df_merged.shape)"
      ],
      "metadata": {
        "colab": {
          "base_uri": "https://localhost:8080/"
        },
        "id": "L8ZZag8Mk-IB",
        "outputId": "ee2cdf29-e240-46a9-b332-618874155e0c"
      },
      "execution_count": 13,
      "outputs": [
        {
          "output_type": "stream",
          "name": "stdout",
          "text": [
            "Jumlah data setelah filter user & buku langka: (270604, 12)\n"
          ]
        }
      ]
    },
    {
      "cell_type": "markdown",
      "source": [
        "Penjelasan: Membersihkan nilai usia ekstrem dan mengganti nilai kosong dengan -1 sebagai penanda \"tidak diketahui\".\n",
        "\n",
        "Tujuan: Menghindari error saat analisis, dan tetap bisa mengenali pengguna yang tidak mengisi umur."
      ],
      "metadata": {
        "id": "HjMugOVWWwXZ"
      }
    },
    {
      "cell_type": "code",
      "source": [
        "# Bersihkan nilai ekstrem terlebih dahulu\n",
        "df_merged['Age'] = df_merged['Age'].apply(lambda x: x if 5 <= x <= 100 else None)\n",
        "\n",
        "# Ganti missing value Age dengan -1 (menandakan Unknown)\n",
        "df_merged['Age'].fillna(-1, inplace=True)\n",
        "\n",
        "# Cek distribusi age setelah cleaning\n",
        "print(df_merged['Age'].value_counts().head())"
      ],
      "metadata": {
        "colab": {
          "base_uri": "https://localhost:8080/"
        },
        "id": "aoB4bpCXlBuU",
        "outputId": "9ffa29c4-a642-494b-a34b-dc34f0f9facc"
      },
      "execution_count": 14,
      "outputs": [
        {
          "output_type": "stream",
          "name": "stdout",
          "text": [
            "Age\n",
            "-1.0     79184\n",
            " 29.0     8195\n",
            " 33.0     7758\n",
            " 28.0     7251\n",
            " 32.0     7193\n",
            "Name: count, dtype: int64\n"
          ]
        },
        {
          "output_type": "stream",
          "name": "stderr",
          "text": [
            "<ipython-input-14-528ecaac11d6>:5: FutureWarning: A value is trying to be set on a copy of a DataFrame or Series through chained assignment using an inplace method.\n",
            "The behavior will change in pandas 3.0. This inplace method will never work because the intermediate object on which we are setting values always behaves as a copy.\n",
            "\n",
            "For example, when doing 'df[col].method(value, inplace=True)', try using 'df.method({col: value}, inplace=True)' or df[col] = df[col].method(value) instead, to perform the operation inplace on the original object.\n",
            "\n",
            "\n",
            "  df_merged['Age'].fillna(-1, inplace=True)\n"
          ]
        }
      ]
    },
    {
      "cell_type": "markdown",
      "source": [
        "Penjelasan: Mengambil hanya kolom penting untuk modeling dan mengganti nama kolom agar lebih ringkas.\n",
        "\n",
        "Tujuan: Supaya data lebih siap dipakai dalam model Collaborative Filtering dan lebih mudah digunakan dalam coding."
      ],
      "metadata": {
        "id": "GF8ezYdjW3Zr"
      }
    },
    {
      "cell_type": "code",
      "source": [
        "# Ambil hanya kolom penting\n",
        "df_model = df_merged[['User-ID', 'ISBN', 'Book-Rating', 'Book-Title', 'Book-Author']].copy()\n",
        "\n",
        "# Rename kolom agar lebih pendek\n",
        "df_model.columns = ['user_id', 'isbn', 'rating', 'title', 'author']"
      ],
      "metadata": {
        "id": "YZ5OwAUFlGqJ"
      },
      "execution_count": 15,
      "outputs": []
    },
    {
      "cell_type": "markdown",
      "source": [
        "# **Modeling -- Collaborative Learning**"
      ],
      "metadata": {
        "id": "3k_1E0VtW9Am"
      }
    },
    {
      "cell_type": "markdown",
      "source": [
        "Penjelasan:\n",
        "\n",
        "Reader() mendefinisikan rentang nilai rating, di sini dari 1 sampai 10.\n",
        "\n",
        "load_from_df(...) mengubah DataFrame menjadi format yang bisa dibaca oleh Surprise.\n",
        "\n",
        "Tujuan:\n",
        "Agar data bisa digunakan oleh model Surprise yang membutuhkan format dan skala rating yang eksplisit."
      ],
      "metadata": {
        "id": "Y-GnYfvpX9Pn"
      }
    },
    {
      "cell_type": "code",
      "source": [
        "# Format data sesuai Surprise\n",
        "reader = Reader(rating_scale=(1, 10))\n",
        "data = Dataset.load_from_df(df_model[['user_id', 'isbn', 'rating']], reader)"
      ],
      "metadata": {
        "id": "ijctj2ZWl_A7"
      },
      "execution_count": 16,
      "outputs": []
    },
    {
      "cell_type": "markdown",
      "source": [
        "Penjelasan:\n",
        "\n",
        "Memisahkan data menjadi 80% untuk pelatihan dan 20% untuk pengujian.\n",
        "\n",
        "Tujuan:\n",
        "Untuk menguji performa model pada data yang belum pernah dilihat sebelumnya dan mencegah overfitting."
      ],
      "metadata": {
        "id": "rQS08fEgYByY"
      }
    },
    {
      "cell_type": "code",
      "source": [
        "# Train-test split\n",
        "trainset, testset = train_test_split(data, test_size=0.2, random_state=42)"
      ],
      "metadata": {
        "id": "_HIA_GVeXolB"
      },
      "execution_count": 17,
      "outputs": []
    },
    {
      "cell_type": "markdown",
      "source": [
        "Penjelasan:\n",
        "\n",
        "SVD() membuat objek model SVD.\n",
        "\n",
        "fit(trainset) melatih model dengan data pelatihan.\n",
        "\n",
        "Tujuan:\n",
        "SVD mempelajari pola hubungan antara pengguna dan item (buku) berdasarkan data rating, dan menghasilkan representasi laten dari preferensi."
      ],
      "metadata": {
        "id": "IqNxowjdYDkS"
      }
    },
    {
      "cell_type": "code",
      "source": [
        "# Gunakan model SVD\n",
        "model_svd = SVD()\n",
        "model_svd.fit(trainset)"
      ],
      "metadata": {
        "colab": {
          "base_uri": "https://localhost:8080/"
        },
        "id": "oNtjteIzXogR",
        "outputId": "0b57c750-e897-4f5d-f9e4-58ad49a66594"
      },
      "execution_count": 18,
      "outputs": [
        {
          "output_type": "execute_result",
          "data": {
            "text/plain": [
              "<surprise.prediction_algorithms.matrix_factorization.SVD at 0x7fd73e17f710>"
            ]
          },
          "metadata": {},
          "execution_count": 18
        }
      ]
    },
    {
      "cell_type": "markdown",
      "source": [
        "Penjelasan:\n",
        "\n",
        "test(testset) melakukan prediksi rating terhadap data uji.\n",
        "\n",
        "rmse(...) menghitung Root Mean Squared Error.\n",
        "\n",
        "Tujuan:\n",
        "Mengetahui seberapa jauh prediksi model dari rating asli. Semakin kecil RMSE, semakin baik modelnya."
      ],
      "metadata": {
        "id": "_p1K4XBjYFrM"
      }
    },
    {
      "cell_type": "code",
      "source": [
        "# Prediksi\n",
        "predictions = model_svd.test(testset)\n",
        "# Evaluasi\n",
        "print(\"RMSE:\", accuracy.rmse(predictions))"
      ],
      "metadata": {
        "colab": {
          "base_uri": "https://localhost:8080/"
        },
        "id": "k6FF_Iq0Xocf",
        "outputId": "885de3df-4dd2-4bfe-c919-3e17a505b5f0"
      },
      "execution_count": 19,
      "outputs": [
        {
          "output_type": "stream",
          "name": "stdout",
          "text": [
            "RMSE: 1.6260\n",
            "RMSE: 1.6259664841475066\n"
          ]
        }
      ]
    },
    {
      "cell_type": "markdown",
      "source": [
        "Penjelasan:\n",
        "Mengambil ID pengguna yang paling aktif (paling banyak memberi rating).\n",
        "\n",
        "Tujuan:\n",
        "Menampilkan contoh rekomendasi personalisasi untuk pengguna yang aktif."
      ],
      "metadata": {
        "id": "tudVaDYVYHRs"
      }
    },
    {
      "cell_type": "code",
      "source": [
        "# Pilih user\n",
        "user_id = df_model['user_id'].value_counts().index[0]  # user teraktif"
      ],
      "metadata": {
        "id": "COdMl6Kkndm3"
      },
      "execution_count": 20,
      "outputs": []
    },
    {
      "cell_type": "markdown",
      "source": [
        "Penjelasan:\n",
        "\n",
        "user_books: daftar buku yang sudah dibaca user.\n",
        "\n",
        "all_books: semua ISBN unik di dataset.\n",
        "\n",
        "books_to_predict: daftar ISBN yang belum dibaca user tersebut.\n",
        "\n",
        "Tujuan:\n",
        "Agar model merekomendasikan buku baru yang belum pernah dibaca user.\n",
        "\n"
      ],
      "metadata": {
        "id": "9_aWV8xOYd4i"
      }
    },
    {
      "cell_type": "code",
      "source": [
        "\n",
        "# Buku yang belum pernah dia baca\n",
        "user_books = df_model[df_model['user_id'] == user_id]['isbn'].tolist()\n",
        "all_books = df_model['isbn'].unique()\n",
        "books_to_predict = [isbn for isbn in all_books if isbn not in user_books]\n"
      ],
      "metadata": {
        "id": "qjlCSl75YWCY"
      },
      "execution_count": 21,
      "outputs": []
    },
    {
      "cell_type": "markdown",
      "source": [
        "Penjelasan:\n",
        "\n",
        "Prediksi rating untuk setiap buku yang belum dibaca user.\n",
        "\n",
        "Sortir berdasarkan prediksi tertinggi (.est = estimated rating).\n",
        "\n",
        "Tujuan:\n",
        "Menemukan buku mana yang kemungkinan besar akan disukai user.\n",
        "\n"
      ],
      "metadata": {
        "id": "5EoGJxKdYgju"
      }
    },
    {
      "cell_type": "code",
      "source": [
        "\n",
        "# Buat prediksi\n",
        "predictions = [model_svd.predict(user_id, isbn) for isbn in books_to_predict]\n",
        "predictions.sort(key=lambda x: x.est, reverse=True)\n"
      ],
      "metadata": {
        "id": "WXqyGRxaYVtJ"
      },
      "execution_count": 22,
      "outputs": []
    },
    {
      "cell_type": "markdown",
      "source": [
        "Penjelasan:\n",
        "\n",
        "Ambil 5 buku teratas dengan rating tertinggi yang diprediksi.\n",
        "\n",
        "Tampilkan judul, penulis, dan rating prediksi.\n",
        "\n",
        "Tujuan:\n",
        "Memberikan output rekomendasi buku personal untuk user aktif, yang bisa digunakan langsung di aplikasi rekomendasi."
      ],
      "metadata": {
        "id": "EKVf--eQYiLR"
      }
    },
    {
      "cell_type": "code",
      "source": [
        "# Ambil top-5\n",
        "top_5 = predictions[:5]\n",
        "for i, pred in enumerate(top_5):\n",
        "    book_info = df_model[df_model['isbn'] == pred.iid].iloc[0]\n",
        "    print(f\"{i+1}. {book_info['title']} by {book_info['author']} - Predicted Rating: {pred.est:.2f}\")"
      ],
      "metadata": {
        "colab": {
          "base_uri": "https://localhost:8080/"
        },
        "id": "FNdmLyU8YVoM",
        "outputId": "4a1b0a57-b9b8-470c-dbdd-bd3786d3e09c"
      },
      "execution_count": 23,
      "outputs": [
        {
          "output_type": "stream",
          "name": "stdout",
          "text": [
            "1. The Catcher in the Rye by J.D. Salinger - Predicted Rating: 10.00\n",
            "2. Dilbert: A Book of Postcards by Scott Adams - Predicted Rating: 10.00\n",
            "3. What Dreams May Come : A Novel by Richard Matheson - Predicted Rating: 9.84\n",
            "4. Bel Canto: A Novel by Ann Patchett - Predicted Rating: 9.84\n",
            "5. Richtig leben mit Geri Weibel. by Martin Suter - Predicted Rating: 9.73\n"
          ]
        }
      ]
    },
    {
      "cell_type": "code",
      "source": [
        "def get_top_n_svd(predictions, n=5):\n",
        "    \"\"\"\n",
        "    Ambil top-N rekomendasi untuk setiap user dari prediksi SVD\n",
        "    \"\"\"\n",
        "    top_n = defaultdict(list)\n",
        "    for uid, iid, true_r, est, _ in predictions:\n",
        "        top_n[uid].append((iid, est))\n",
        "\n",
        "    for uid, user_ratings in top_n.items():\n",
        "        user_ratings.sort(key=lambda x: x[1], reverse=True)\n",
        "        top_n[uid] = [iid for (iid, _) in user_ratings[:n]]\n",
        "\n",
        "    return top_n\n",
        "\n",
        "def precision_recall_at_k_svd(predictions, k=5, threshold=7.0):\n",
        "    \"\"\"\n",
        "    Evaluasi precision@k dan recall@k berdasarkan prediksi SVD\n",
        "    \"\"\"\n",
        "    user_est_true = defaultdict(list)\n",
        "    for uid, iid, true_r, est, _ in predictions:\n",
        "        user_est_true[uid].append((iid, est, true_r))\n",
        "\n",
        "    precisions = []\n",
        "    recalls = []\n",
        "\n",
        "    for uid, user_ratings in user_est_true.items():\n",
        "        # Relevan jika true rating >= threshold\n",
        "        relevant_items = [iid for (iid, _, true_r) in user_ratings if true_r >= threshold]\n",
        "        recommended_items = [iid for (iid, est, _) in sorted(user_ratings, key=lambda x: x[1], reverse=True)[:k]]\n",
        "\n",
        "        if not relevant_items:\n",
        "            continue\n",
        "\n",
        "        hit_set = set(recommended_items) & set(relevant_items)\n",
        "        precision = len(hit_set) / k\n",
        "        recall = len(hit_set) / len(relevant_items)\n",
        "\n",
        "        precisions.append(precision)\n",
        "        recalls.append(recall)\n",
        "\n",
        "    return sum(precisions) / len(precisions), sum(recalls) / len(recalls)\n",
        "\n",
        "# Prediksi dari model SVD (gunakan model_svd yang telah dilatih sebelumnya)\n",
        "predictions = model_svd.test(testset)\n",
        "top_n_svd = get_top_n_svd(predictions, n=5)\n",
        "precision_svd, recall_svd = precision_recall_at_k_svd(predictions, k=5)\n",
        "\n",
        "print(f\"[SVD] Precision@5: {precision_svd:.4f}\")\n",
        "print(f\"[SVD] Recall@5: {recall_svd:.4f}\")"
      ],
      "metadata": {
        "colab": {
          "base_uri": "https://localhost:8080/"
        },
        "id": "PsszS9msyO9x",
        "outputId": "15bccb87-b2d4-4cef-d1b3-40e5690aab53"
      },
      "execution_count": 223,
      "outputs": [
        {
          "output_type": "stream",
          "name": "stdout",
          "text": [
            "[SVD] Precision@5: 0.3860\n",
            "[SVD] Recall@5: 0.9366\n"
          ]
        }
      ]
    },
    {
      "cell_type": "markdown",
      "source": [
        "# **Data Preparation untuk model Content based learning**"
      ],
      "metadata": {
        "id": "S1MHm37b3Zwr"
      }
    },
    {
      "cell_type": "markdown",
      "source": [
        "Penjelasan:\n",
        "\n",
        "Membuat salinan books dan ratings untuk menjaga data asli tetap utuh.\n",
        "\n",
        "Rename kolom books agar mudah dibaca.\n",
        "\n",
        "Hapus baris buku yang tidak memiliki informasi penting seperti judul, penulis, atau penerbit.\n",
        "\n",
        "Tujuan:\n",
        "Menjamin data yang digunakan lengkap dan relevan untuk membuat profil konten buku (title, author, publisher)."
      ],
      "metadata": {
        "id": "pNrgi3YrZTWV"
      }
    },
    {
      "cell_type": "code",
      "source": [
        "books = df_book.copy()\n",
        "ratings = df_Ratings.copy()"
      ],
      "metadata": {
        "id": "IHvbCjFo6O6N"
      },
      "execution_count": 125,
      "outputs": []
    },
    {
      "cell_type": "markdown",
      "source": [
        "Ganti nama kolom agar lebih mudah dipanggil.\n",
        "Mempermudah pengolahan data di tahapan selanjutnya dan hanya ambil kolom yang relevan untuk rekomendasi (bukan ukuran gambar kecil)."
      ],
      "metadata": {
        "id": "WLq22pyAxAcX"
      }
    },
    {
      "cell_type": "code",
      "source": [
        "# Rename kolom agar lebih mudah dibaca\n",
        "books.columns = ['isbn', 'title', 'author', 'year', 'publisher', 'img_s', 'img_m', 'img_l']\n",
        "books = books[['isbn', 'title', 'author', 'publisher', 'img_l']].copy()\n",
        "\n",
        "# Hapus data yang kosong di kolom penting\n",
        "books.dropna(subset=['title', 'author', 'publisher', 'img_l'], inplace=True)"
      ],
      "metadata": {
        "id": "4T_Im6e349-E"
      },
      "execution_count": 126,
      "outputs": []
    },
    {
      "cell_type": "markdown",
      "source": [
        "Gabungkan informasi teks penting jadi satu string.\n",
        "Ini adalah fitur masukan untuk TF-IDF, yang akan digunakan oleh model content-based untuk mengukur kesamaan antar buku."
      ],
      "metadata": {
        "id": "D-cNUWZpxEIU"
      }
    },
    {
      "cell_type": "code",
      "source": [
        "# Gabungkan fitur penting menjadi satu string per buku\n",
        "books['combined_features'] = (\n",
        "    books['title'].fillna('') + ' ' +\n",
        "    books['author'].fillna('') + ' ' +\n",
        "    books['publisher'].fillna('')\n",
        ")"
      ],
      "metadata": {
        "id": "PQVI0nJ0497g"
      },
      "execution_count": 222,
      "outputs": []
    },
    {
      "cell_type": "markdown",
      "source": [
        "- Membersihkan rating yang tidak lengkap.\n",
        "\n",
        "- Menyaring hanya buku yang masih ada di books.\n",
        "\n",
        "- Tambahan user_id di akhir tampaknya keliru karena user_id = ISBN, ini tampaknya bug.\n",
        "\n",
        "Membersihkan data agar evaluasi akurat dan hanya mencakup item valid yang bisa direkomendasikan."
      ],
      "metadata": {
        "id": "zOaX3B04j__n"
      }
    },
    {
      "cell_type": "code",
      "source": [
        "RELEVANT_THRESHOLD = 7\n",
        "\n",
        "# Filter rating yang valid\n",
        "ratings = ratings.dropna(subset=['ISBN', 'User-ID', 'Book-Rating'])\n",
        "ratings = ratings[ratings['ISBN'].isin(books['isbn'])]\n",
        "ratings = ratings[ratings['ISBN'].notnull()]\n",
        "ratings['user_id'] = ratings['ISBN'].astype(str)\n",
        "#ratings.rename(columns={'User-ID': 'user_id', 'ISBN': 'isbn', 'Book-Rating': 'rating'}, inplace=True)"
      ],
      "metadata": {
        "id": "ejl6TyQF4945"
      },
      "execution_count": 128,
      "outputs": []
    },
    {
      "cell_type": "markdown",
      "source": [
        "disini diberi batasan dikarenakan saat percobaan, google colab selalu mengulang runtime diikarenakan pembatasan memori, sehingga untuk percobaan diambil 5000 sample.\n",
        "Mengubah teks (title, author, publisher) menjadi vektor numerik.Ini inti dari content-based filtering — menemukan buku serupa berdasarkan fitur deskripsi."
      ],
      "metadata": {
        "id": "3YTWGUBRlV2X"
      }
    },
    {
      "cell_type": "code",
      "source": [
        "# Vectorizer dengan batasan memori: hanya kata penting dan unigram saja\n",
        "tfidf = TfidfVectorizer(\n",
        "    stop_words='english',\n",
        "    max_features=5000,  # Batas atas fitur agar hemat RAM\n",
        "    strip_accents='unicode',\n",
        "    lowercase=True\n",
        ")\n",
        "\n",
        "tfidf_matrix = tfidf.fit_transform(books['combined_features'])"
      ],
      "metadata": {
        "id": "oKoFUAIH49z2"
      },
      "execution_count": 129,
      "outputs": []
    },
    {
      "cell_type": "markdown",
      "source": [
        "dikarenakan disini menggunakan Content-based learning, dan memang dataset tidak memiliki fitur yang mendukung untuk modelling content-based learning membuat model sensitive terhadap judul dari buku sehingga Membuat versi bersih dari judul agar pencarian judul lebih akurat (tanpa tanda baca)."
      ],
      "metadata": {
        "id": "OpwGnE-Plnoo"
      }
    },
    {
      "cell_type": "code",
      "source": [
        "# Membuat indeks berdasarkan title yang dibersihkan\n",
        "books['clean_title'] = books['title'].str.lower().str.replace('[^a-z0-9 ]', '', regex=True)\n",
        "title_to_index = pd.Series(books.index, index=books['clean_title'])"
      ],
      "metadata": {
        "id": "zCblPaY1IqjQ"
      },
      "execution_count": 130,
      "outputs": []
    },
    {
      "cell_type": "markdown",
      "source": [
        "## **Modelling Content-Based Learning**"
      ],
      "metadata": {
        "id": "ryLLxMYm2Ue_"
      }
    },
    {
      "cell_type": "markdown",
      "source": [
        "Melatih model untuk menemukan buku yang paling mirip secara konten.\n",
        "Algoritma inti dari content-based filtering – menemukan tetangga terdekat dari input."
      ],
      "metadata": {
        "id": "uelyxvdOxqZ3"
      }
    },
    {
      "cell_type": "code",
      "source": [
        "nn_model = NearestNeighbors(metric='cosine', algorithm='brute')\n",
        "nn_model.fit(tfidf_matrix)"
      ],
      "metadata": {
        "colab": {
          "base_uri": "https://localhost:8080/",
          "height": 80
        },
        "id": "WtZ2cePT49xI",
        "outputId": "645cac47-749e-4001-ea89-406044645af7"
      },
      "execution_count": 221,
      "outputs": [
        {
          "output_type": "execute_result",
          "data": {
            "text/plain": [
              "NearestNeighbors(algorithm='brute', metric='cosine')"
            ],
            "text/html": [
              "<style>#sk-container-id-2 {\n",
              "  /* Definition of color scheme common for light and dark mode */\n",
              "  --sklearn-color-text: #000;\n",
              "  --sklearn-color-text-muted: #666;\n",
              "  --sklearn-color-line: gray;\n",
              "  /* Definition of color scheme for unfitted estimators */\n",
              "  --sklearn-color-unfitted-level-0: #fff5e6;\n",
              "  --sklearn-color-unfitted-level-1: #f6e4d2;\n",
              "  --sklearn-color-unfitted-level-2: #ffe0b3;\n",
              "  --sklearn-color-unfitted-level-3: chocolate;\n",
              "  /* Definition of color scheme for fitted estimators */\n",
              "  --sklearn-color-fitted-level-0: #f0f8ff;\n",
              "  --sklearn-color-fitted-level-1: #d4ebff;\n",
              "  --sklearn-color-fitted-level-2: #b3dbfd;\n",
              "  --sklearn-color-fitted-level-3: cornflowerblue;\n",
              "\n",
              "  /* Specific color for light theme */\n",
              "  --sklearn-color-text-on-default-background: var(--sg-text-color, var(--theme-code-foreground, var(--jp-content-font-color1, black)));\n",
              "  --sklearn-color-background: var(--sg-background-color, var(--theme-background, var(--jp-layout-color0, white)));\n",
              "  --sklearn-color-border-box: var(--sg-text-color, var(--theme-code-foreground, var(--jp-content-font-color1, black)));\n",
              "  --sklearn-color-icon: #696969;\n",
              "\n",
              "  @media (prefers-color-scheme: dark) {\n",
              "    /* Redefinition of color scheme for dark theme */\n",
              "    --sklearn-color-text-on-default-background: var(--sg-text-color, var(--theme-code-foreground, var(--jp-content-font-color1, white)));\n",
              "    --sklearn-color-background: var(--sg-background-color, var(--theme-background, var(--jp-layout-color0, #111)));\n",
              "    --sklearn-color-border-box: var(--sg-text-color, var(--theme-code-foreground, var(--jp-content-font-color1, white)));\n",
              "    --sklearn-color-icon: #878787;\n",
              "  }\n",
              "}\n",
              "\n",
              "#sk-container-id-2 {\n",
              "  color: var(--sklearn-color-text);\n",
              "}\n",
              "\n",
              "#sk-container-id-2 pre {\n",
              "  padding: 0;\n",
              "}\n",
              "\n",
              "#sk-container-id-2 input.sk-hidden--visually {\n",
              "  border: 0;\n",
              "  clip: rect(1px 1px 1px 1px);\n",
              "  clip: rect(1px, 1px, 1px, 1px);\n",
              "  height: 1px;\n",
              "  margin: -1px;\n",
              "  overflow: hidden;\n",
              "  padding: 0;\n",
              "  position: absolute;\n",
              "  width: 1px;\n",
              "}\n",
              "\n",
              "#sk-container-id-2 div.sk-dashed-wrapped {\n",
              "  border: 1px dashed var(--sklearn-color-line);\n",
              "  margin: 0 0.4em 0.5em 0.4em;\n",
              "  box-sizing: border-box;\n",
              "  padding-bottom: 0.4em;\n",
              "  background-color: var(--sklearn-color-background);\n",
              "}\n",
              "\n",
              "#sk-container-id-2 div.sk-container {\n",
              "  /* jupyter's `normalize.less` sets `[hidden] { display: none; }`\n",
              "     but bootstrap.min.css set `[hidden] { display: none !important; }`\n",
              "     so we also need the `!important` here to be able to override the\n",
              "     default hidden behavior on the sphinx rendered scikit-learn.org.\n",
              "     See: https://github.com/scikit-learn/scikit-learn/issues/21755 */\n",
              "  display: inline-block !important;\n",
              "  position: relative;\n",
              "}\n",
              "\n",
              "#sk-container-id-2 div.sk-text-repr-fallback {\n",
              "  display: none;\n",
              "}\n",
              "\n",
              "div.sk-parallel-item,\n",
              "div.sk-serial,\n",
              "div.sk-item {\n",
              "  /* draw centered vertical line to link estimators */\n",
              "  background-image: linear-gradient(var(--sklearn-color-text-on-default-background), var(--sklearn-color-text-on-default-background));\n",
              "  background-size: 2px 100%;\n",
              "  background-repeat: no-repeat;\n",
              "  background-position: center center;\n",
              "}\n",
              "\n",
              "/* Parallel-specific style estimator block */\n",
              "\n",
              "#sk-container-id-2 div.sk-parallel-item::after {\n",
              "  content: \"\";\n",
              "  width: 100%;\n",
              "  border-bottom: 2px solid var(--sklearn-color-text-on-default-background);\n",
              "  flex-grow: 1;\n",
              "}\n",
              "\n",
              "#sk-container-id-2 div.sk-parallel {\n",
              "  display: flex;\n",
              "  align-items: stretch;\n",
              "  justify-content: center;\n",
              "  background-color: var(--sklearn-color-background);\n",
              "  position: relative;\n",
              "}\n",
              "\n",
              "#sk-container-id-2 div.sk-parallel-item {\n",
              "  display: flex;\n",
              "  flex-direction: column;\n",
              "}\n",
              "\n",
              "#sk-container-id-2 div.sk-parallel-item:first-child::after {\n",
              "  align-self: flex-end;\n",
              "  width: 50%;\n",
              "}\n",
              "\n",
              "#sk-container-id-2 div.sk-parallel-item:last-child::after {\n",
              "  align-self: flex-start;\n",
              "  width: 50%;\n",
              "}\n",
              "\n",
              "#sk-container-id-2 div.sk-parallel-item:only-child::after {\n",
              "  width: 0;\n",
              "}\n",
              "\n",
              "/* Serial-specific style estimator block */\n",
              "\n",
              "#sk-container-id-2 div.sk-serial {\n",
              "  display: flex;\n",
              "  flex-direction: column;\n",
              "  align-items: center;\n",
              "  background-color: var(--sklearn-color-background);\n",
              "  padding-right: 1em;\n",
              "  padding-left: 1em;\n",
              "}\n",
              "\n",
              "\n",
              "/* Toggleable style: style used for estimator/Pipeline/ColumnTransformer box that is\n",
              "clickable and can be expanded/collapsed.\n",
              "- Pipeline and ColumnTransformer use this feature and define the default style\n",
              "- Estimators will overwrite some part of the style using the `sk-estimator` class\n",
              "*/\n",
              "\n",
              "/* Pipeline and ColumnTransformer style (default) */\n",
              "\n",
              "#sk-container-id-2 div.sk-toggleable {\n",
              "  /* Default theme specific background. It is overwritten whether we have a\n",
              "  specific estimator or a Pipeline/ColumnTransformer */\n",
              "  background-color: var(--sklearn-color-background);\n",
              "}\n",
              "\n",
              "/* Toggleable label */\n",
              "#sk-container-id-2 label.sk-toggleable__label {\n",
              "  cursor: pointer;\n",
              "  display: flex;\n",
              "  width: 100%;\n",
              "  margin-bottom: 0;\n",
              "  padding: 0.5em;\n",
              "  box-sizing: border-box;\n",
              "  text-align: center;\n",
              "  align-items: start;\n",
              "  justify-content: space-between;\n",
              "  gap: 0.5em;\n",
              "}\n",
              "\n",
              "#sk-container-id-2 label.sk-toggleable__label .caption {\n",
              "  font-size: 0.6rem;\n",
              "  font-weight: lighter;\n",
              "  color: var(--sklearn-color-text-muted);\n",
              "}\n",
              "\n",
              "#sk-container-id-2 label.sk-toggleable__label-arrow:before {\n",
              "  /* Arrow on the left of the label */\n",
              "  content: \"▸\";\n",
              "  float: left;\n",
              "  margin-right: 0.25em;\n",
              "  color: var(--sklearn-color-icon);\n",
              "}\n",
              "\n",
              "#sk-container-id-2 label.sk-toggleable__label-arrow:hover:before {\n",
              "  color: var(--sklearn-color-text);\n",
              "}\n",
              "\n",
              "/* Toggleable content - dropdown */\n",
              "\n",
              "#sk-container-id-2 div.sk-toggleable__content {\n",
              "  max-height: 0;\n",
              "  max-width: 0;\n",
              "  overflow: hidden;\n",
              "  text-align: left;\n",
              "  /* unfitted */\n",
              "  background-color: var(--sklearn-color-unfitted-level-0);\n",
              "}\n",
              "\n",
              "#sk-container-id-2 div.sk-toggleable__content.fitted {\n",
              "  /* fitted */\n",
              "  background-color: var(--sklearn-color-fitted-level-0);\n",
              "}\n",
              "\n",
              "#sk-container-id-2 div.sk-toggleable__content pre {\n",
              "  margin: 0.2em;\n",
              "  border-radius: 0.25em;\n",
              "  color: var(--sklearn-color-text);\n",
              "  /* unfitted */\n",
              "  background-color: var(--sklearn-color-unfitted-level-0);\n",
              "}\n",
              "\n",
              "#sk-container-id-2 div.sk-toggleable__content.fitted pre {\n",
              "  /* unfitted */\n",
              "  background-color: var(--sklearn-color-fitted-level-0);\n",
              "}\n",
              "\n",
              "#sk-container-id-2 input.sk-toggleable__control:checked~div.sk-toggleable__content {\n",
              "  /* Expand drop-down */\n",
              "  max-height: 200px;\n",
              "  max-width: 100%;\n",
              "  overflow: auto;\n",
              "}\n",
              "\n",
              "#sk-container-id-2 input.sk-toggleable__control:checked~label.sk-toggleable__label-arrow:before {\n",
              "  content: \"▾\";\n",
              "}\n",
              "\n",
              "/* Pipeline/ColumnTransformer-specific style */\n",
              "\n",
              "#sk-container-id-2 div.sk-label input.sk-toggleable__control:checked~label.sk-toggleable__label {\n",
              "  color: var(--sklearn-color-text);\n",
              "  background-color: var(--sklearn-color-unfitted-level-2);\n",
              "}\n",
              "\n",
              "#sk-container-id-2 div.sk-label.fitted input.sk-toggleable__control:checked~label.sk-toggleable__label {\n",
              "  background-color: var(--sklearn-color-fitted-level-2);\n",
              "}\n",
              "\n",
              "/* Estimator-specific style */\n",
              "\n",
              "/* Colorize estimator box */\n",
              "#sk-container-id-2 div.sk-estimator input.sk-toggleable__control:checked~label.sk-toggleable__label {\n",
              "  /* unfitted */\n",
              "  background-color: var(--sklearn-color-unfitted-level-2);\n",
              "}\n",
              "\n",
              "#sk-container-id-2 div.sk-estimator.fitted input.sk-toggleable__control:checked~label.sk-toggleable__label {\n",
              "  /* fitted */\n",
              "  background-color: var(--sklearn-color-fitted-level-2);\n",
              "}\n",
              "\n",
              "#sk-container-id-2 div.sk-label label.sk-toggleable__label,\n",
              "#sk-container-id-2 div.sk-label label {\n",
              "  /* The background is the default theme color */\n",
              "  color: var(--sklearn-color-text-on-default-background);\n",
              "}\n",
              "\n",
              "/* On hover, darken the color of the background */\n",
              "#sk-container-id-2 div.sk-label:hover label.sk-toggleable__label {\n",
              "  color: var(--sklearn-color-text);\n",
              "  background-color: var(--sklearn-color-unfitted-level-2);\n",
              "}\n",
              "\n",
              "/* Label box, darken color on hover, fitted */\n",
              "#sk-container-id-2 div.sk-label.fitted:hover label.sk-toggleable__label.fitted {\n",
              "  color: var(--sklearn-color-text);\n",
              "  background-color: var(--sklearn-color-fitted-level-2);\n",
              "}\n",
              "\n",
              "/* Estimator label */\n",
              "\n",
              "#sk-container-id-2 div.sk-label label {\n",
              "  font-family: monospace;\n",
              "  font-weight: bold;\n",
              "  display: inline-block;\n",
              "  line-height: 1.2em;\n",
              "}\n",
              "\n",
              "#sk-container-id-2 div.sk-label-container {\n",
              "  text-align: center;\n",
              "}\n",
              "\n",
              "/* Estimator-specific */\n",
              "#sk-container-id-2 div.sk-estimator {\n",
              "  font-family: monospace;\n",
              "  border: 1px dotted var(--sklearn-color-border-box);\n",
              "  border-radius: 0.25em;\n",
              "  box-sizing: border-box;\n",
              "  margin-bottom: 0.5em;\n",
              "  /* unfitted */\n",
              "  background-color: var(--sklearn-color-unfitted-level-0);\n",
              "}\n",
              "\n",
              "#sk-container-id-2 div.sk-estimator.fitted {\n",
              "  /* fitted */\n",
              "  background-color: var(--sklearn-color-fitted-level-0);\n",
              "}\n",
              "\n",
              "/* on hover */\n",
              "#sk-container-id-2 div.sk-estimator:hover {\n",
              "  /* unfitted */\n",
              "  background-color: var(--sklearn-color-unfitted-level-2);\n",
              "}\n",
              "\n",
              "#sk-container-id-2 div.sk-estimator.fitted:hover {\n",
              "  /* fitted */\n",
              "  background-color: var(--sklearn-color-fitted-level-2);\n",
              "}\n",
              "\n",
              "/* Specification for estimator info (e.g. \"i\" and \"?\") */\n",
              "\n",
              "/* Common style for \"i\" and \"?\" */\n",
              "\n",
              ".sk-estimator-doc-link,\n",
              "a:link.sk-estimator-doc-link,\n",
              "a:visited.sk-estimator-doc-link {\n",
              "  float: right;\n",
              "  font-size: smaller;\n",
              "  line-height: 1em;\n",
              "  font-family: monospace;\n",
              "  background-color: var(--sklearn-color-background);\n",
              "  border-radius: 1em;\n",
              "  height: 1em;\n",
              "  width: 1em;\n",
              "  text-decoration: none !important;\n",
              "  margin-left: 0.5em;\n",
              "  text-align: center;\n",
              "  /* unfitted */\n",
              "  border: var(--sklearn-color-unfitted-level-1) 1pt solid;\n",
              "  color: var(--sklearn-color-unfitted-level-1);\n",
              "}\n",
              "\n",
              ".sk-estimator-doc-link.fitted,\n",
              "a:link.sk-estimator-doc-link.fitted,\n",
              "a:visited.sk-estimator-doc-link.fitted {\n",
              "  /* fitted */\n",
              "  border: var(--sklearn-color-fitted-level-1) 1pt solid;\n",
              "  color: var(--sklearn-color-fitted-level-1);\n",
              "}\n",
              "\n",
              "/* On hover */\n",
              "div.sk-estimator:hover .sk-estimator-doc-link:hover,\n",
              ".sk-estimator-doc-link:hover,\n",
              "div.sk-label-container:hover .sk-estimator-doc-link:hover,\n",
              ".sk-estimator-doc-link:hover {\n",
              "  /* unfitted */\n",
              "  background-color: var(--sklearn-color-unfitted-level-3);\n",
              "  color: var(--sklearn-color-background);\n",
              "  text-decoration: none;\n",
              "}\n",
              "\n",
              "div.sk-estimator.fitted:hover .sk-estimator-doc-link.fitted:hover,\n",
              ".sk-estimator-doc-link.fitted:hover,\n",
              "div.sk-label-container:hover .sk-estimator-doc-link.fitted:hover,\n",
              ".sk-estimator-doc-link.fitted:hover {\n",
              "  /* fitted */\n",
              "  background-color: var(--sklearn-color-fitted-level-3);\n",
              "  color: var(--sklearn-color-background);\n",
              "  text-decoration: none;\n",
              "}\n",
              "\n",
              "/* Span, style for the box shown on hovering the info icon */\n",
              ".sk-estimator-doc-link span {\n",
              "  display: none;\n",
              "  z-index: 9999;\n",
              "  position: relative;\n",
              "  font-weight: normal;\n",
              "  right: .2ex;\n",
              "  padding: .5ex;\n",
              "  margin: .5ex;\n",
              "  width: min-content;\n",
              "  min-width: 20ex;\n",
              "  max-width: 50ex;\n",
              "  color: var(--sklearn-color-text);\n",
              "  box-shadow: 2pt 2pt 4pt #999;\n",
              "  /* unfitted */\n",
              "  background: var(--sklearn-color-unfitted-level-0);\n",
              "  border: .5pt solid var(--sklearn-color-unfitted-level-3);\n",
              "}\n",
              "\n",
              ".sk-estimator-doc-link.fitted span {\n",
              "  /* fitted */\n",
              "  background: var(--sklearn-color-fitted-level-0);\n",
              "  border: var(--sklearn-color-fitted-level-3);\n",
              "}\n",
              "\n",
              ".sk-estimator-doc-link:hover span {\n",
              "  display: block;\n",
              "}\n",
              "\n",
              "/* \"?\"-specific style due to the `<a>` HTML tag */\n",
              "\n",
              "#sk-container-id-2 a.estimator_doc_link {\n",
              "  float: right;\n",
              "  font-size: 1rem;\n",
              "  line-height: 1em;\n",
              "  font-family: monospace;\n",
              "  background-color: var(--sklearn-color-background);\n",
              "  border-radius: 1rem;\n",
              "  height: 1rem;\n",
              "  width: 1rem;\n",
              "  text-decoration: none;\n",
              "  /* unfitted */\n",
              "  color: var(--sklearn-color-unfitted-level-1);\n",
              "  border: var(--sklearn-color-unfitted-level-1) 1pt solid;\n",
              "}\n",
              "\n",
              "#sk-container-id-2 a.estimator_doc_link.fitted {\n",
              "  /* fitted */\n",
              "  border: var(--sklearn-color-fitted-level-1) 1pt solid;\n",
              "  color: var(--sklearn-color-fitted-level-1);\n",
              "}\n",
              "\n",
              "/* On hover */\n",
              "#sk-container-id-2 a.estimator_doc_link:hover {\n",
              "  /* unfitted */\n",
              "  background-color: var(--sklearn-color-unfitted-level-3);\n",
              "  color: var(--sklearn-color-background);\n",
              "  text-decoration: none;\n",
              "}\n",
              "\n",
              "#sk-container-id-2 a.estimator_doc_link.fitted:hover {\n",
              "  /* fitted */\n",
              "  background-color: var(--sklearn-color-fitted-level-3);\n",
              "}\n",
              "</style><div id=\"sk-container-id-2\" class=\"sk-top-container\"><div class=\"sk-text-repr-fallback\"><pre>NearestNeighbors(algorithm=&#x27;brute&#x27;, metric=&#x27;cosine&#x27;)</pre><b>In a Jupyter environment, please rerun this cell to show the HTML representation or trust the notebook. <br />On GitHub, the HTML representation is unable to render, please try loading this page with nbviewer.org.</b></div><div class=\"sk-container\" hidden><div class=\"sk-item\"><div class=\"sk-estimator fitted sk-toggleable\"><input class=\"sk-toggleable__control sk-hidden--visually\" id=\"sk-estimator-id-2\" type=\"checkbox\" checked><label for=\"sk-estimator-id-2\" class=\"sk-toggleable__label fitted sk-toggleable__label-arrow\"><div><div>NearestNeighbors</div></div><div><a class=\"sk-estimator-doc-link fitted\" rel=\"noreferrer\" target=\"_blank\" href=\"https://scikit-learn.org/1.6/modules/generated/sklearn.neighbors.NearestNeighbors.html\">?<span>Documentation for NearestNeighbors</span></a><span class=\"sk-estimator-doc-link fitted\">i<span>Fitted</span></span></div></label><div class=\"sk-toggleable__content fitted\"><pre>NearestNeighbors(algorithm=&#x27;brute&#x27;, metric=&#x27;cosine&#x27;)</pre></div> </div></div></div></div>"
            ]
          },
          "metadata": {},
          "execution_count": 221
        }
      ]
    },
    {
      "cell_type": "markdown",
      "source": [
        " Cari top-n buku yang mirip berdasarkan input judul."
      ],
      "metadata": {
        "id": "sGg08_LXxwI5"
      }
    },
    {
      "cell_type": "code",
      "source": [
        "def get_recommendations(title, books, tfidf_matrix, nn_model, top_n=10):\n",
        "    idx = books[books['title'] == title].index\n",
        "    if len(idx) == 0:\n",
        "        return None\n",
        "    idx = idx[0]\n",
        "    tfidf_vec = tfidf_matrix[idx]\n",
        "    distances, indices = nn_model.kneighbors(tfidf_vec, n_neighbors=top_n+1)\n",
        "    result_indices = indices[0][1:]  # skip the input itself\n",
        "    return books.iloc[result_indices]"
      ],
      "metadata": {
        "id": "zDcS33oZ49uj"
      },
      "execution_count": 32,
      "outputs": []
    },
    {
      "cell_type": "code",
      "source": [
        "recommended_books = get_recommendations(\"Harry Potter and the Sorcerer's Stone\", books, tfidf_matrix, nn_model)\n",
        "recommended_books[['title', 'author', 'publisher', 'img_l']]"
      ],
      "metadata": {
        "colab": {
          "base_uri": "https://localhost:8080/",
          "height": 519
        },
        "id": "hqi5hO9n49bB",
        "outputId": "ef34552b-1323-4f09-a702-41d7996d8771"
      },
      "execution_count": 33,
      "outputs": [
        {
          "output_type": "execute_result",
          "data": {
            "text/plain": [
              "                                                   title         author  \\\n",
              "253017            Tempted (Harlequin Historical, No 338)    Laurel Ames   \n",
              "137429                    Infamous (Historical , No 418)    Laurel Ames   \n",
              "35120      The Courtship (Harlequin Historical, No. 613)  Lynna Banning   \n",
              "121185             The Scout (Harlequin Historical, 682)  Lynna Banning   \n",
              "262495  Destiny'S Promise (Harlequin Historical No. 172)    Laurel Pace   \n",
              "56082      Nancy Whiskey (Harlequin Historicals, No 378)    Laurel Ames   \n",
              "114561    Winds Of Destiny (Harlequin Historical No 242)    Laurel Pace   \n",
              "143409     Playing To Win (Harlequin Historical, No 280)    Laurel Ames   \n",
              "202120         Springtown (Harlequin Historical, No 151)     Prue Scott   \n",
              "146352     Addie'S Lament (Harlequin Historical, No 277)     Prue Scott   \n",
              "\n",
              "        publisher                                              img_l  \n",
              "253017  Harlequin  http://images.amazon.com/images/P/0373289383.0...  \n",
              "137429  Harlequin  http://images.amazon.com/images/P/0373290187.0...  \n",
              "35120   Harlequin  http://images.amazon.com/images/P/0373292139.0...  \n",
              "121185  Harlequin  http://images.amazon.com/images/P/0373292821.0...  \n",
              "262495  Harlequin  http://images.amazon.com/images/P/0373287720.0...  \n",
              "56082   Harlequin  http://images.amazon.com/images/P/0373289782.0...  \n",
              "114561  Harlequin  http://images.amazon.com/images/P/0373288425.0...  \n",
              "143409  Harlequin  http://images.amazon.com/images/P/0373288808.0...  \n",
              "202120  Harlequin  http://images.amazon.com/images/P/0373287518.0...  \n",
              "146352  Harlequin  http://images.amazon.com/images/P/0373288778.0...  "
            ],
            "text/html": [
              "\n",
              "  <div id=\"df-eb73c405-63d5-4152-a8b0-7cb9cc4d011c\" class=\"colab-df-container\">\n",
              "    <div>\n",
              "<style scoped>\n",
              "    .dataframe tbody tr th:only-of-type {\n",
              "        vertical-align: middle;\n",
              "    }\n",
              "\n",
              "    .dataframe tbody tr th {\n",
              "        vertical-align: top;\n",
              "    }\n",
              "\n",
              "    .dataframe thead th {\n",
              "        text-align: right;\n",
              "    }\n",
              "</style>\n",
              "<table border=\"1\" class=\"dataframe\">\n",
              "  <thead>\n",
              "    <tr style=\"text-align: right;\">\n",
              "      <th></th>\n",
              "      <th>title</th>\n",
              "      <th>author</th>\n",
              "      <th>publisher</th>\n",
              "      <th>img_l</th>\n",
              "    </tr>\n",
              "  </thead>\n",
              "  <tbody>\n",
              "    <tr>\n",
              "      <th>253017</th>\n",
              "      <td>Tempted (Harlequin Historical, No 338)</td>\n",
              "      <td>Laurel Ames</td>\n",
              "      <td>Harlequin</td>\n",
              "      <td>http://images.amazon.com/images/P/0373289383.0...</td>\n",
              "    </tr>\n",
              "    <tr>\n",
              "      <th>137429</th>\n",
              "      <td>Infamous (Historical , No 418)</td>\n",
              "      <td>Laurel Ames</td>\n",
              "      <td>Harlequin</td>\n",
              "      <td>http://images.amazon.com/images/P/0373290187.0...</td>\n",
              "    </tr>\n",
              "    <tr>\n",
              "      <th>35120</th>\n",
              "      <td>The Courtship (Harlequin Historical, No. 613)</td>\n",
              "      <td>Lynna Banning</td>\n",
              "      <td>Harlequin</td>\n",
              "      <td>http://images.amazon.com/images/P/0373292139.0...</td>\n",
              "    </tr>\n",
              "    <tr>\n",
              "      <th>121185</th>\n",
              "      <td>The Scout (Harlequin Historical, 682)</td>\n",
              "      <td>Lynna Banning</td>\n",
              "      <td>Harlequin</td>\n",
              "      <td>http://images.amazon.com/images/P/0373292821.0...</td>\n",
              "    </tr>\n",
              "    <tr>\n",
              "      <th>262495</th>\n",
              "      <td>Destiny'S Promise (Harlequin Historical No. 172)</td>\n",
              "      <td>Laurel Pace</td>\n",
              "      <td>Harlequin</td>\n",
              "      <td>http://images.amazon.com/images/P/0373287720.0...</td>\n",
              "    </tr>\n",
              "    <tr>\n",
              "      <th>56082</th>\n",
              "      <td>Nancy Whiskey (Harlequin Historicals, No 378)</td>\n",
              "      <td>Laurel Ames</td>\n",
              "      <td>Harlequin</td>\n",
              "      <td>http://images.amazon.com/images/P/0373289782.0...</td>\n",
              "    </tr>\n",
              "    <tr>\n",
              "      <th>114561</th>\n",
              "      <td>Winds Of Destiny (Harlequin Historical No 242)</td>\n",
              "      <td>Laurel Pace</td>\n",
              "      <td>Harlequin</td>\n",
              "      <td>http://images.amazon.com/images/P/0373288425.0...</td>\n",
              "    </tr>\n",
              "    <tr>\n",
              "      <th>143409</th>\n",
              "      <td>Playing To Win (Harlequin Historical, No 280)</td>\n",
              "      <td>Laurel Ames</td>\n",
              "      <td>Harlequin</td>\n",
              "      <td>http://images.amazon.com/images/P/0373288808.0...</td>\n",
              "    </tr>\n",
              "    <tr>\n",
              "      <th>202120</th>\n",
              "      <td>Springtown (Harlequin Historical, No 151)</td>\n",
              "      <td>Prue Scott</td>\n",
              "      <td>Harlequin</td>\n",
              "      <td>http://images.amazon.com/images/P/0373287518.0...</td>\n",
              "    </tr>\n",
              "    <tr>\n",
              "      <th>146352</th>\n",
              "      <td>Addie'S Lament (Harlequin Historical, No 277)</td>\n",
              "      <td>Prue Scott</td>\n",
              "      <td>Harlequin</td>\n",
              "      <td>http://images.amazon.com/images/P/0373288778.0...</td>\n",
              "    </tr>\n",
              "  </tbody>\n",
              "</table>\n",
              "</div>\n",
              "    <div class=\"colab-df-buttons\">\n",
              "\n",
              "  <div class=\"colab-df-container\">\n",
              "    <button class=\"colab-df-convert\" onclick=\"convertToInteractive('df-eb73c405-63d5-4152-a8b0-7cb9cc4d011c')\"\n",
              "            title=\"Convert this dataframe to an interactive table.\"\n",
              "            style=\"display:none;\">\n",
              "\n",
              "  <svg xmlns=\"http://www.w3.org/2000/svg\" height=\"24px\" viewBox=\"0 -960 960 960\">\n",
              "    <path d=\"M120-120v-720h720v720H120Zm60-500h600v-160H180v160Zm220 220h160v-160H400v160Zm0 220h160v-160H400v160ZM180-400h160v-160H180v160Zm440 0h160v-160H620v160ZM180-180h160v-160H180v160Zm440 0h160v-160H620v160Z\"/>\n",
              "  </svg>\n",
              "    </button>\n",
              "\n",
              "  <style>\n",
              "    .colab-df-container {\n",
              "      display:flex;\n",
              "      gap: 12px;\n",
              "    }\n",
              "\n",
              "    .colab-df-convert {\n",
              "      background-color: #E8F0FE;\n",
              "      border: none;\n",
              "      border-radius: 50%;\n",
              "      cursor: pointer;\n",
              "      display: none;\n",
              "      fill: #1967D2;\n",
              "      height: 32px;\n",
              "      padding: 0 0 0 0;\n",
              "      width: 32px;\n",
              "    }\n",
              "\n",
              "    .colab-df-convert:hover {\n",
              "      background-color: #E2EBFA;\n",
              "      box-shadow: 0px 1px 2px rgba(60, 64, 67, 0.3), 0px 1px 3px 1px rgba(60, 64, 67, 0.15);\n",
              "      fill: #174EA6;\n",
              "    }\n",
              "\n",
              "    .colab-df-buttons div {\n",
              "      margin-bottom: 4px;\n",
              "    }\n",
              "\n",
              "    [theme=dark] .colab-df-convert {\n",
              "      background-color: #3B4455;\n",
              "      fill: #D2E3FC;\n",
              "    }\n",
              "\n",
              "    [theme=dark] .colab-df-convert:hover {\n",
              "      background-color: #434B5C;\n",
              "      box-shadow: 0px 1px 3px 1px rgba(0, 0, 0, 0.15);\n",
              "      filter: drop-shadow(0px 1px 2px rgba(0, 0, 0, 0.3));\n",
              "      fill: #FFFFFF;\n",
              "    }\n",
              "  </style>\n",
              "\n",
              "    <script>\n",
              "      const buttonEl =\n",
              "        document.querySelector('#df-eb73c405-63d5-4152-a8b0-7cb9cc4d011c button.colab-df-convert');\n",
              "      buttonEl.style.display =\n",
              "        google.colab.kernel.accessAllowed ? 'block' : 'none';\n",
              "\n",
              "      async function convertToInteractive(key) {\n",
              "        const element = document.querySelector('#df-eb73c405-63d5-4152-a8b0-7cb9cc4d011c');\n",
              "        const dataTable =\n",
              "          await google.colab.kernel.invokeFunction('convertToInteractive',\n",
              "                                                    [key], {});\n",
              "        if (!dataTable) return;\n",
              "\n",
              "        const docLinkHtml = 'Like what you see? Visit the ' +\n",
              "          '<a target=\"_blank\" href=https://colab.research.google.com/notebooks/data_table.ipynb>data table notebook</a>'\n",
              "          + ' to learn more about interactive tables.';\n",
              "        element.innerHTML = '';\n",
              "        dataTable['output_type'] = 'display_data';\n",
              "        await google.colab.output.renderOutput(dataTable, element);\n",
              "        const docLink = document.createElement('div');\n",
              "        docLink.innerHTML = docLinkHtml;\n",
              "        element.appendChild(docLink);\n",
              "      }\n",
              "    </script>\n",
              "  </div>\n",
              "\n",
              "\n",
              "    <div id=\"df-0b5cec41-e10a-4c87-be62-2bd2cb219e81\">\n",
              "      <button class=\"colab-df-quickchart\" onclick=\"quickchart('df-0b5cec41-e10a-4c87-be62-2bd2cb219e81')\"\n",
              "                title=\"Suggest charts\"\n",
              "                style=\"display:none;\">\n",
              "\n",
              "<svg xmlns=\"http://www.w3.org/2000/svg\" height=\"24px\"viewBox=\"0 0 24 24\"\n",
              "     width=\"24px\">\n",
              "    <g>\n",
              "        <path d=\"M19 3H5c-1.1 0-2 .9-2 2v14c0 1.1.9 2 2 2h14c1.1 0 2-.9 2-2V5c0-1.1-.9-2-2-2zM9 17H7v-7h2v7zm4 0h-2V7h2v10zm4 0h-2v-4h2v4z\"/>\n",
              "    </g>\n",
              "</svg>\n",
              "      </button>\n",
              "\n",
              "<style>\n",
              "  .colab-df-quickchart {\n",
              "      --bg-color: #E8F0FE;\n",
              "      --fill-color: #1967D2;\n",
              "      --hover-bg-color: #E2EBFA;\n",
              "      --hover-fill-color: #174EA6;\n",
              "      --disabled-fill-color: #AAA;\n",
              "      --disabled-bg-color: #DDD;\n",
              "  }\n",
              "\n",
              "  [theme=dark] .colab-df-quickchart {\n",
              "      --bg-color: #3B4455;\n",
              "      --fill-color: #D2E3FC;\n",
              "      --hover-bg-color: #434B5C;\n",
              "      --hover-fill-color: #FFFFFF;\n",
              "      --disabled-bg-color: #3B4455;\n",
              "      --disabled-fill-color: #666;\n",
              "  }\n",
              "\n",
              "  .colab-df-quickchart {\n",
              "    background-color: var(--bg-color);\n",
              "    border: none;\n",
              "    border-radius: 50%;\n",
              "    cursor: pointer;\n",
              "    display: none;\n",
              "    fill: var(--fill-color);\n",
              "    height: 32px;\n",
              "    padding: 0;\n",
              "    width: 32px;\n",
              "  }\n",
              "\n",
              "  .colab-df-quickchart:hover {\n",
              "    background-color: var(--hover-bg-color);\n",
              "    box-shadow: 0 1px 2px rgba(60, 64, 67, 0.3), 0 1px 3px 1px rgba(60, 64, 67, 0.15);\n",
              "    fill: var(--button-hover-fill-color);\n",
              "  }\n",
              "\n",
              "  .colab-df-quickchart-complete:disabled,\n",
              "  .colab-df-quickchart-complete:disabled:hover {\n",
              "    background-color: var(--disabled-bg-color);\n",
              "    fill: var(--disabled-fill-color);\n",
              "    box-shadow: none;\n",
              "  }\n",
              "\n",
              "  .colab-df-spinner {\n",
              "    border: 2px solid var(--fill-color);\n",
              "    border-color: transparent;\n",
              "    border-bottom-color: var(--fill-color);\n",
              "    animation:\n",
              "      spin 1s steps(1) infinite;\n",
              "  }\n",
              "\n",
              "  @keyframes spin {\n",
              "    0% {\n",
              "      border-color: transparent;\n",
              "      border-bottom-color: var(--fill-color);\n",
              "      border-left-color: var(--fill-color);\n",
              "    }\n",
              "    20% {\n",
              "      border-color: transparent;\n",
              "      border-left-color: var(--fill-color);\n",
              "      border-top-color: var(--fill-color);\n",
              "    }\n",
              "    30% {\n",
              "      border-color: transparent;\n",
              "      border-left-color: var(--fill-color);\n",
              "      border-top-color: var(--fill-color);\n",
              "      border-right-color: var(--fill-color);\n",
              "    }\n",
              "    40% {\n",
              "      border-color: transparent;\n",
              "      border-right-color: var(--fill-color);\n",
              "      border-top-color: var(--fill-color);\n",
              "    }\n",
              "    60% {\n",
              "      border-color: transparent;\n",
              "      border-right-color: var(--fill-color);\n",
              "    }\n",
              "    80% {\n",
              "      border-color: transparent;\n",
              "      border-right-color: var(--fill-color);\n",
              "      border-bottom-color: var(--fill-color);\n",
              "    }\n",
              "    90% {\n",
              "      border-color: transparent;\n",
              "      border-bottom-color: var(--fill-color);\n",
              "    }\n",
              "  }\n",
              "</style>\n",
              "\n",
              "      <script>\n",
              "        async function quickchart(key) {\n",
              "          const quickchartButtonEl =\n",
              "            document.querySelector('#' + key + ' button');\n",
              "          quickchartButtonEl.disabled = true;  // To prevent multiple clicks.\n",
              "          quickchartButtonEl.classList.add('colab-df-spinner');\n",
              "          try {\n",
              "            const charts = await google.colab.kernel.invokeFunction(\n",
              "                'suggestCharts', [key], {});\n",
              "          } catch (error) {\n",
              "            console.error('Error during call to suggestCharts:', error);\n",
              "          }\n",
              "          quickchartButtonEl.classList.remove('colab-df-spinner');\n",
              "          quickchartButtonEl.classList.add('colab-df-quickchart-complete');\n",
              "        }\n",
              "        (() => {\n",
              "          let quickchartButtonEl =\n",
              "            document.querySelector('#df-0b5cec41-e10a-4c87-be62-2bd2cb219e81 button');\n",
              "          quickchartButtonEl.style.display =\n",
              "            google.colab.kernel.accessAllowed ? 'block' : 'none';\n",
              "        })();\n",
              "      </script>\n",
              "    </div>\n",
              "\n",
              "    </div>\n",
              "  </div>\n"
            ],
            "application/vnd.google.colaboratory.intrinsic+json": {
              "type": "dataframe",
              "summary": "{\n  \"name\": \"recommended_books[['title', 'author', 'publisher', 'img_l']]\",\n  \"rows\": 10,\n  \"fields\": [\n    {\n      \"column\": \"title\",\n      \"properties\": {\n        \"dtype\": \"string\",\n        \"num_unique_values\": 10,\n        \"samples\": [\n          \"Springtown (Harlequin Historical, No 151)\",\n          \"Infamous (Historical , No 418)\",\n          \"Nancy Whiskey (Harlequin Historicals, No 378)\"\n        ],\n        \"semantic_type\": \"\",\n        \"description\": \"\"\n      }\n    },\n    {\n      \"column\": \"author\",\n      \"properties\": {\n        \"dtype\": \"category\",\n        \"num_unique_values\": 4,\n        \"samples\": [\n          \"Lynna Banning\",\n          \"Prue Scott\",\n          \"Laurel Ames\"\n        ],\n        \"semantic_type\": \"\",\n        \"description\": \"\"\n      }\n    },\n    {\n      \"column\": \"publisher\",\n      \"properties\": {\n        \"dtype\": \"category\",\n        \"num_unique_values\": 1,\n        \"samples\": [\n          \"Harlequin\"\n        ],\n        \"semantic_type\": \"\",\n        \"description\": \"\"\n      }\n    },\n    {\n      \"column\": \"img_l\",\n      \"properties\": {\n        \"dtype\": \"string\",\n        \"num_unique_values\": 10,\n        \"samples\": [\n          \"http://images.amazon.com/images/P/0373287518.01.LZZZZZZZ.jpg\"\n        ],\n        \"semantic_type\": \"\",\n        \"description\": \"\"\n      }\n    }\n  ]\n}"
            }
          },
          "metadata": {},
          "execution_count": 33
        }
      ]
    },
    {
      "cell_type": "markdown",
      "source": [
        "Evaluasi kualitas rekomendasi dengan membandingkan hasil model terhadap data user yang nyata.\n",
        "- Untuk setiap user, ambil 1 buku relevan sebagai query.\n",
        "\n",
        "- Hitung berapa dari top-k hasil rekomendasi yang juga disukai user."
      ],
      "metadata": {
        "id": "pXXvzS3bx07p"
      }
    },
    {
      "cell_type": "code",
      "source": [
        "def precision_recall_at_k_nn(books, ratings, tfidf_matrix, nn_model, k=5, n_users=100, RELEVANT_THRESHOLD=8):\n",
        "    hits = 0\n",
        "    total_recommended = 0\n",
        "    total_relevant = 0\n",
        "\n",
        "    user_grouped = ratings.groupby('User-ID')  # sesuai struktur asli\n",
        "    evaluated_users = 0\n",
        "\n",
        "    for user_id, group in user_grouped:\n",
        "        user_ratings = group.sort_values(by='Book-Rating', ascending=False)\n",
        "        relevant_books = user_ratings[user_ratings['Book-Rating'] >= RELEVANT_THRESHOLD]['ISBN'].tolist()\n",
        "\n",
        "        if len(relevant_books) < 2:\n",
        "            continue\n",
        "\n",
        "        query_book = relevant_books[0]\n",
        "        query_title = books[books['isbn'] == query_book]['title'].values\n",
        "        if len(query_title) == 0:\n",
        "            continue\n",
        "\n",
        "        title = query_title[0]\n",
        "        recommended_df = get_recommendations(title, books, tfidf_matrix, nn_model, top_n=k)\n",
        "        if recommended_df is None:\n",
        "            continue\n",
        "\n",
        "        recommended_isbns = books.loc[recommended_df.index]['isbn'].tolist()\n",
        "        relevant_set = set(relevant_books[1:])  # exclude query book\n",
        "\n",
        "        hit_set = set(recommended_isbns) & relevant_set\n",
        "        hits += len(hit_set)\n",
        "        total_recommended += k\n",
        "        total_relevant += len(relevant_set)\n",
        "\n",
        "        evaluated_users += 1\n",
        "        if evaluated_users >= n_users:\n",
        "            break\n",
        "\n",
        "    precision = hits / total_recommended if total_recommended > 0 else 0\n",
        "    recall = hits / total_relevant if total_relevant > 0 else 0\n",
        "    return precision, recall"
      ],
      "metadata": {
        "id": "P9fJbuK_71my"
      },
      "execution_count": 95,
      "outputs": []
    },
    {
      "cell_type": "markdown",
      "source": [
        "Melihat seberapa akurat dan lengkap sistem dalam memberikan rekomendasi.\n",
        "\n",
        "- Precision@5 → proporsi buku dari hasil rekomendasi yang memang disukai.\n",
        "\n",
        "- Recall@5 → proporsi buku yang disukai user dan berhasil direkomendasikan.\n",
        "\n"
      ],
      "metadata": {
        "id": "1aq-G02rx9Zo"
      }
    },
    {
      "cell_type": "code",
      "source": [
        "precision, recall = precision_recall_at_k_nn(books, ratings, tfidf_matrix, nn_model, k=5, n_users=100)\n",
        "print(f\"Precision@5: {precision:.4f}\")\n",
        "print(f\"Recall@5: {recall:.4f}\")"
      ],
      "metadata": {
        "colab": {
          "base_uri": "https://localhost:8080/"
        },
        "id": "DGh1LuWw49KN",
        "outputId": "dc81ee09-cb7f-49b7-805f-d05447f9e5f5"
      },
      "execution_count": 96,
      "outputs": [
        {
          "output_type": "stream",
          "name": "stdout",
          "text": [
            "Precision@5: 0.0020\n",
            "Recall@5: 0.0019\n"
          ]
        }
      ]
    }
  ]
}